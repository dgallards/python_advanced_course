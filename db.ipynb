{
 "cells": [
  {
   "cell_type": "markdown",
   "metadata": {},
   "source": [
    "# Uso de bases de datos con Python\n",
    "\n",
    "## MySQL\n",
    "\n",
    "MySQL es un sistema de gestión de bases de datos relacionales (RDBMS, por sus siglas en inglés) de código abierto. \n",
    "\n",
    "Es uno de los sistemas de gestión de bases de datos más populares en el mundo, especialmente en aplicaciones web y en la creación de sitios web dinámicos. MySQL permite almacenar, organizar y recuperar grandes cantidades de información en una base de datos, utilizando lenguaje SQL (Structured Query Language) para interactuar con la base de datos.\n",
    "\n",
    "### Python y MySQL\n",
    "\n",
    "Para conectarnos a la BBDD usaremos MySQL Connector. MySQL Connector/Python es un driver de software que proporciona una interfaz para conectarse a una base de datos MySQL desde Python. \n",
    "\n",
    "Este conector es un módulo de Python que se utiliza para conectarse a una base de datos MySQL y realizar operaciones en ella. Proporciona una interfaz de programación de aplicaciones (API) para interactuar con MySQL, permitiendo a los programas de Python enviar comandos SQL a una base de datos MySQL y recibir resultados.\n",
    "\n",
    "\n",
    "#### Instalación\n",
    "\n",
    "Para utilizar BeautifulSoup, necesitaremos su biblioteca llamada beautifulsoup4. Para instalarla podemos ejecutar esta línea\n",
    "\n",
    "`$ pip install mysql-connector-python`\n",
    "\n",
    "Si aparece un error, podríamos ejecutar\n",
    "\n",
    "`$ pip install --trusted-host pypi.org --trusted-host files.pythonhosted.org mysql-connector-python`\n",
    "\n",
    "o bien:\n",
    "\n",
    "`$ pip install --user --trusted-host pypi.org --trusted-host files.pythonhosted.org mysql-connector-python`\n",
    "\n",
    "Para testear, vamos a crearnos una cuenta en https://www.freemysqlhosting.net/account/ o https://freedb.tech/ y creamos un BBDD."
   ]
  },
  {
   "cell_type": "code",
   "execution_count": 27,
   "metadata": {},
   "outputs": [],
   "source": [
    "import mysql.connector\n",
    "\n",
    "# Crea una conexión al servidor MySQL\n",
    "cnx = mysql.connector.connect(user='freedb_sqlexampleuser', password='4NwkY%XmQz86ZZ#', host='sql.freedb.tech', database='freedb_sqlexampledb')\n",
    "\n",
    "# Crea un cursor para ejecutar consultas\n",
    "cursor = cnx.cursor()"
   ]
  },
  {
   "cell_type": "markdown",
   "metadata": {},
   "source": [
    "### CREATE\n",
    "\n",
    "La sentencia CREATE TABLE en SQL se utiliza para crear una nueva tabla en una base de datos. La sintaxis básica es la siguiente:\n",
    "\n",
    "```sql\n",
    "CREATE TABLE nombre_de_la_tabla (\n",
    "    columna_1 tipo_de_dato,\n",
    "    columna_2 tipo_de_dato,\n",
    "    ...\n",
    "    columna_n tipo_de_dato\n",
    ");\n",
    "```\n",
    "\n",
    "Donde **nombre_de_la_tabla** es el nombre que se le dará a la nueva tabla, **columna_1, columna_2, etc.,** son los nombres de las columnas que se crearán en la tabla, y tipo_de_dato es el tipo de datos que se almacenará en cada columna.\n",
    "\n",
    "Por ejemplo, si quisiéramos crear una tabla llamada empleados con las columnas id (entero), nombre (cadena de caracteres), edad (entero) y salario (flotante), la sentencia SQL sería la siguiente:\n",
    "\n",
    "\n",
    "```sql\n",
    "CREATE TABLE empleados (\n",
    "    id INT,\n",
    "    nombre VARCHAR(255),\n",
    "    edad INT,\n",
    "    salario FLOAT\n",
    ");\n",
    "```\n",
    "Por ejemplo, podemos utilizar el siguiente código para crear la tabla empleados en una base de datos llamada mi_base_de_datos:"
   ]
  },
  {
   "cell_type": "code",
   "execution_count": null,
   "metadata": {},
   "outputs": [],
   "source": [
    "cursor.execute(\"CREATE TABLE empleados (id INT, nombre VARCHAR(255), edad INT, salario FLOAT)\")"
   ]
  },
  {
   "cell_type": "markdown",
   "metadata": {},
   "source": [
    "## SHOW y DESC\n",
    "\n",
    "La sentencia SHOW en SQL se utiliza para mostrar información sobre la base de datos o las tablas. La sintaxis básica para mostrar todas las tablas en una base de datos es la siguiente:\n",
    "\n",
    "```sql\n",
    "SHOW TABLES;\n",
    "```\n",
    "\n",
    "Esto mostrará una lista de todas las tablas en la base de datos actual. Si queremos ver la estructura de una tabla específica, podemos usar la sentencia DESCRIBE o DESC:\n",
    "\n",
    "```sql\n",
    "DESCRIBE nombre_de_la_tabla;\n",
    "```\n",
    "\n",
    "Por ejemplo, vamos a ver la tabla añadida anteriormente:"
   ]
  },
  {
   "cell_type": "code",
   "execution_count": 18,
   "metadata": {},
   "outputs": [
    {
     "name": "stdout",
     "output_type": "stream",
     "text": [
      "('empleados',)\n",
      "('id', 'int', 'YES', '', None, '')\n",
      "('nombre', 'varchar(255)', 'YES', '', None, '')\n",
      "('edad', 'int', 'YES', '', None, '')\n",
      "('salario', 'float', 'YES', '', None, '')\n"
     ]
    }
   ],
   "source": [
    "cursor.execute(\"SHOW TABLES\")\n",
    "for tabla in cursor:\n",
    "  print(tabla)\n",
    "\n",
    "cursor.execute(\"DESCRIBE empleados\")\n",
    "for columna in cursor:\n",
    "  print(columna)"
   ]
  },
  {
   "cell_type": "markdown",
   "metadata": {},
   "source": [
    "## INSERT INTO\n",
    "\n",
    "La sentencia INSERT INTO en SQL se utiliza para insertar nuevos registros en una tabla existente. La sintaxis básica es la siguiente:\n",
    "\n",
    "```sql\n",
    "INSERT INTO nombre_de_la_tabla (columna_1, columna_2, ..., columna_n) \n",
    "VALUES (valor_1, valor_2, ..., valor_n);\n",
    "```\n",
    "Donde **nombre_de_la_tabla** es el nombre de la tabla, **columna_1, columna_2, etc.** son los nombres de las columnas en las que se insertarán los valores, y **valor_1, valor_2, etc.** son los valores que se insertarán en cada columna.\n",
    "\n",
    "Además utilizamos la función commit() para guardar los cambios en la base de datos y cerramos\n",
    "\n",
    "Por ejemplo, vamos a añadir unos empleados a la dabe de datos:"
   ]
  },
  {
   "cell_type": "code",
   "execution_count": 28,
   "metadata": {},
   "outputs": [],
   "source": [
    "cursor.execute(\"INSERT INTO empleados (id, nombre, edad, salario) VALUES (1, 'Juan', 25, 2500.0)\")\n",
    "cursor.execute(\"INSERT INTO empleados (id, nombre, edad, salario) VALUES (2, 'María', 30, 3000.0)\")\n",
    "cursor.execute(\"INSERT INTO empleados (id, nombre, edad, salario) VALUES (3, 'Pedro', 40, 4000.0)\")\n",
    "\n",
    "cnx.commit()\n"
   ]
  },
  {
   "cell_type": "markdown",
   "metadata": {},
   "source": [
    "## Select\n",
    "\n",
    "La sentencia SELECT en SQL es una de las más utilizadas, y se utiliza para recuperar datos de una o varias tablas en una base de datos. Hay diferentes formas de utilizar la sentencia SELECT, pero a continuación te explicaré dos de las más comunes: SELECT * y SELECT con WHERE.\n",
    "\n",
    "SELECT *: La sintaxis básica para utilizar SELECT * es la siguiente:\n",
    "\n",
    "```sql\n",
    "SELECT columna_1, columna_2, ... FROM nombre_de_la_tabla WHERE condicion;\n",
    "```\n",
    "Esta sentencia devuelve todas las columnas y todos los registros de la tabla **nombre_de_la_tabla**. Es importante tener en cuenta que **SELECT *** puede ser muy útil para recuperar todos los datos de una tabla, pero también puede ser ineficiente si la tabla tiene muchas columnas o registros.\n",
    "\n",
    "SELECT con WHERE: La sintaxis básica para utilizar SELECT con WHERE es la siguiente:\n",
    "\n",
    "```sql\n",
    "SELECT columna_1, columna_2, ... FROM nombre_de_la_tabla WHERE condicion;\n",
    "```\n",
    "\n",
    "Esta sentencia devuelve las columnas especificadas en **columna_1, columna_2, etc.** y los registros que cumplen con la condicion especificada. \n",
    "La condicion es una expresión booleana que se utiliza para filtrar los registros. Por ejemplo, si queremos seleccionar todos los trabajadores con un salario mayor a 3000, podemos utilizar la siguiente sentencia:\n",
    "\n",
    "```sql\n",
    "SELECT * FROM empleados WHERE salario > 3000;\n",
    "```\n",
    "\n",
    "Esto devolverá todos los registros de la tabla **empleados** donde el valor de la columna **salario** es mayor a 3000.\n",
    "\n",
    "Vamos a ver unos ejemplos en Python:"
   ]
  },
  {
   "cell_type": "code",
   "execution_count": 30,
   "metadata": {},
   "outputs": [
    {
     "name": "stdout",
     "output_type": "stream",
     "text": [
      "Ejemplo 1\n",
      "(1, 'Juan', 25, 2500.0)\n",
      "(2, 'María', 30, 3000.0)\n",
      "(3, 'Pedro', 40, 4000.0)\n",
      "Ejemplo 2\n",
      "(1, 'Juan')\n",
      "(2, 'María')\n",
      "(3, 'Pedro')\n",
      "Ejemplo 3\n",
      "(3, 'Pedro', 40, 4000.0)\n"
     ]
    }
   ],
   "source": [
    "# Seleccionar todas las columnas y registros de la tabla empleados\n",
    "print(\"Ejemplo 1\")\n",
    "cursor.execute(\"SELECT * FROM empleados\")\n",
    "resultados = cursor.fetchall()\n",
    "for registro in resultados:\n",
    "  print(registro)\n",
    "\n",
    "# Seleccionar las columnas id y nombre de la tabla empleados\n",
    "print(\"Ejemplo 2\")\n",
    "cursor.execute(\"SELECT id, nombre FROM empleados\")\n",
    "resultados = cursor.fetchall()\n",
    "for registro in resultados:\n",
    "  print(registro)\n",
    "\n",
    "# Seleccionar los registros de la tabla empleados con un salario mayor a 3000\n",
    "print(\"Ejemplo 3\")\n",
    "cursor.execute(\"SELECT * FROM empleados WHERE salario > 3000\")\n",
    "resultados = cursor.fetchall()\n",
    "for registro in resultados:\n",
    "  print(registro)"
   ]
  },
  {
   "cell_type": "markdown",
   "metadata": {},
   "source": [
    "## Update\n",
    "\n",
    "La sentencia UPDATE en SQL se utiliza para modificar los datos existentes en una tabla. Es una sentencia muy útil para actualizar los valores de una columna en una tabla, ya sea para corregir errores o para actualizar información. La sintaxis básica de la sentencia UPDATE es la siguiente:\n",
    "\n",
    "```sql\n",
    "UPDATE nombre_de_la_tabla SET columna_1 = valor_1, columna_2 = valor_2, ... WHERE condicion;\n",
    "```\n",
    "\n",
    "Por ejemplo, supongamos que queremos actualizar el salario de un trabajador con id igual a 1 en la tabla empleados. Podemos utilizar la siguiente sentencia:\n",
    "\n",
    "```sql\n",
    "UPDATE empleados SET salario = 4000 WHERE id = 1;\n",
    "```\n",
    "\n",
    "Esta sentencia actualizará el valor de la columna salario en la tabla empleados a 4000 para el trabajador con id igual a 1.\n",
    "\n",
    "Es importante tener en cuenta que la sentencia UPDATE puede afectar a muchos registros en una tabla si no se utiliza una condición adecuada. Por lo tanto, es importante asegurarse de que la condición utilizada en la sentencia UPDATE sea lo suficientemente específica para actualizar solo los registros que deseamos modificar."
   ]
  },
  {
   "cell_type": "code",
   "execution_count": null,
   "metadata": {},
   "outputs": [],
   "source": [
    "cursor.execute(\"UPDATE empleados SET salario = 4000 WHERE id = 1\")\n",
    "cnx.commit()"
   ]
  },
  {
   "cell_type": "code",
   "execution_count": 11,
   "metadata": {},
   "outputs": [
    {
     "ename": "InternalError",
     "evalue": "Unread result found",
     "output_type": "error",
     "traceback": [
      "\u001b[1;31m---------------------------------------------------------------------------\u001b[0m",
      "\u001b[1;31mInternalError\u001b[0m                             Traceback (most recent call last)",
      "Cell \u001b[1;32mIn[11], line 2\u001b[0m\n\u001b[0;32m      1\u001b[0m \u001b[39m# Ejecuta una consulta CREATE\u001b[39;00m\n\u001b[1;32m----> 2\u001b[0m cursor\u001b[39m.\u001b[39;49mexecute(\u001b[39m\"\u001b[39;49m\u001b[39mCREATE TABLE alumnos (name VARCHAR(255), age VARCHAR(255))\u001b[39;49m\u001b[39m\"\u001b[39;49m)\n\u001b[0;32m      4\u001b[0m \u001b[39m# Mostramos las tablas\u001b[39;00m\n\u001b[0;32m      5\u001b[0m cursor\u001b[39m.\u001b[39mexecute(\u001b[39m\"\u001b[39m\u001b[39mSHOW TABLES\u001b[39m\u001b[39m\"\u001b[39m)\n",
      "File \u001b[1;32m~\\AppData\\Local\\Packages\\PythonSoftwareFoundation.Python.3.10_qbz5n2kfra8p0\\LocalCache\\local-packages\\Python310\\site-packages\\mysql\\connector\\cursor.py:582\u001b[0m, in \u001b[0;36mMySQLCursor.execute\u001b[1;34m(self, operation, params, multi)\u001b[0m\n\u001b[0;32m    579\u001b[0m \u001b[39mexcept\u001b[39;00m (ProgrammingError, \u001b[39mReferenceError\u001b[39;00m) \u001b[39mas\u001b[39;00m err:\n\u001b[0;32m    580\u001b[0m     \u001b[39mraise\u001b[39;00m ProgrammingError(\u001b[39m\"\u001b[39m\u001b[39mCursor is not connected\u001b[39m\u001b[39m\"\u001b[39m) \u001b[39mfrom\u001b[39;00m \u001b[39merr\u001b[39;00m\n\u001b[1;32m--> 582\u001b[0m \u001b[39mself\u001b[39;49m\u001b[39m.\u001b[39;49m_connection\u001b[39m.\u001b[39;49mhandle_unread_result()\n\u001b[0;32m    584\u001b[0m \u001b[39mself\u001b[39m\u001b[39m.\u001b[39m_reset_result()\n\u001b[0;32m    585\u001b[0m stmt: StrOrBytes \u001b[39m=\u001b[39m \u001b[39m\"\u001b[39m\u001b[39m\"\u001b[39m\n",
      "File \u001b[1;32m~\\AppData\\Local\\Packages\\PythonSoftwareFoundation.Python.3.10_qbz5n2kfra8p0\\LocalCache\\local-packages\\Python310\\site-packages\\mysql\\connector\\connection.py:1711\u001b[0m, in \u001b[0;36mMySQLConnection.handle_unread_result\u001b[1;34m(self)\u001b[0m\n\u001b[0;32m   1709\u001b[0m     \u001b[39mself\u001b[39m\u001b[39m.\u001b[39mconsume_results()\n\u001b[0;32m   1710\u001b[0m \u001b[39melif\u001b[39;00m \u001b[39mself\u001b[39m\u001b[39m.\u001b[39munread_result:\n\u001b[1;32m-> 1711\u001b[0m     \u001b[39mraise\u001b[39;00m InternalError(\u001b[39m\"\u001b[39m\u001b[39mUnread result found\u001b[39m\u001b[39m\"\u001b[39m)\n",
      "\u001b[1;31mInternalError\u001b[0m: Unread result found"
     ]
    }
   ],
   "source": [
    "\n",
    "# Ejecuta una consulta CREATE\n",
    "cursor.execute(\"CREATE TABLE alumnos (name VARCHAR(255), age VARCHAR(255))\")\n",
    "\n",
    "# Mostramos las tablas\n",
    "cursor.execute(\"SHOW TABLES\")\n",
    "\n",
    "# Imprime los resultados de la consulta\n",
    "for x in cursor:\n",
    "  print(x)\n",
    "\n",
    "# Borramos la tabla\n",
    "cursor.execute(\"DROP TABLE alumnos\")\n",
    "\n",
    "# Mostramos las tablas\n",
    "cursor.execute(\"SHOW TABLES\")\n",
    "\n",
    "# Imprime los resultados de la consulta\n",
    "for x in cursor:\n",
    "  print(x)\n",
    "\n",
    "# Cierra la conexión\n",
    "cnx.close()"
   ]
  }
 ],
 "metadata": {
  "kernelspec": {
   "display_name": "Python 3.10.9 64-bit (microsoft store)",
   "language": "python",
   "name": "python3"
  },
  "language_info": {
   "codemirror_mode": {
    "name": "ipython",
    "version": 3
   },
   "file_extension": ".py",
   "mimetype": "text/x-python",
   "name": "python",
   "nbconvert_exporter": "python",
   "pygments_lexer": "ipython3",
   "version": "3.10.10"
  },
  "orig_nbformat": 4,
  "vscode": {
   "interpreter": {
    "hash": "85aece5883f23cf93a903b25fd3f6a5833dab6da9d10cf403dbbc785be5e4181"
   }
  }
 },
 "nbformat": 4,
 "nbformat_minor": 2
}

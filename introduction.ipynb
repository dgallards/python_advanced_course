{
 "cells": [
  {
   "cell_type": "markdown",
   "metadata": {},
   "source": [
    "# Introducción a las librerías de Python para desarrollo web\n",
    "\n",
    "\n",
    "Un servidor web es un software o un dispositivo que se encarga de recibir las solicitudes de los clientes (generalmente navegadores web) y proporcionarles una respuesta. La respuesta puede ser una página web, una imagen, un archivo, etc. El servidor web también puede ejecutar scripts y aplicaciones en el lado del servidor, como aplicaciones de PHP o Python, para generar dinámicamente el contenido que se envía al cliente.\n",
    "\n",
    "Existen multitud de servicios y servidores web que podemos utilizar, como Django, Flask...\n",
    "\n",
    "Nosotros utilizaremos Tornado. \n",
    "\n",
    "Tornado es un framework de servidor web de código abierto escrito en Python. Fue desarrollado por la empresa FriendFeed (ahora propiedad de Facebook) y es utilizado en muchas aplicaciones web de alto rendimiento y escalabilidad.\n",
    "\n",
    "Tornado es especialmente adecuado para aplicaciones web que requieren un gran número de conexiones simultáneas, como aplicaciones de chat, juegos en línea, aplicaciones web en tiempo real y aplicaciones de streaming de datos.\n",
    "\n",
    "Una de las características más importantes de Tornado es su motor de I/O no bloqueante, que permite manejar un gran número de conexiones simultáneas sin consumir demasiados recursos del sistema. Tornado también tiene una API simple y fácil de usar para el desarrollo de aplicaciones web y admite la programación asíncrona, lo que permite que las aplicaciones manejen varias tareas simultáneamente.\n",
    "\n",
    "## Instalación\n",
    "\n",
    "Para utilizar Tornado, necesitaremos su biblioteca llamada tornado. Para instalarla podemos ejecutar esta línea\n",
    "\n",
    "`$ pip install tornado`\n",
    "\n",
    "Si aparece un error, podríamos ejecutar\n",
    "\n",
    "`$ pip install --trusted-host pypi.org --trusted-host files.pythonhosted.org tornado`\n",
    "\n",
    "o bien:\n",
    "\n",
    "`$ pip install --user --trusted-host pypi.org --trusted-host files.pythonhosted.org tornado`\n",
    "\n",
    "Necesitaremos también crear unas páginas web que serviremos en un futuro"
   ]
  },
  {
   "cell_type": "markdown",
   "metadata": {},
   "source": [
    "Para comenzar haremos una web de ejemplo:"
   ]
  },
  {
   "cell_type": "code",
   "execution_count": null,
   "metadata": {},
   "outputs": [],
   "source": [
    "# Do not run code!!! copy and paste code into server.py and run through console!\n",
    "\n",
    "import tornado.ioloop \n",
    "import tornado.web\n",
    "\n",
    "class MainHandler(tornado.web.RequestHandler):\n",
    "    def get(self):\n",
    "        self.render(\"html\\index.html\")\n",
    "\n",
    "def make_app():\n",
    "    return tornado.web.Application([\n",
    "        (r\"/\", MainHandler)\n",
    "    ])\n",
    "\n",
    "if __name__ == \"__main__\":\n",
    "    app = make_app()\n",
    "    app.listen(8888)\n",
    "    print(\"Server started on port 8888\")\n",
    "    tornado.ioloop.IOLoop.current().start()"
   ]
  },
  {
   "cell_type": "markdown",
   "metadata": {},
   "source": [
    "## Manejando peticiones GET y POST\n",
    "\n",
    "Las peticiones GET y POST son dos métodos HTTP (Hypertext Transfer Protocol) utilizados para solicitar información a un servidor web.\n",
    "\n",
    "- La petición GET se utiliza para obtener información del servidor. Es el método HTTP más común y se utiliza para solicitar una página web o un recurso específico, como una imagen o un archivo. La información se envía en la línea de dirección de la URL (Uniform Resource Locator) y es visible para el usuario. Por lo general, las peticiones GET son seguras y no tienen efectos secundarios, ya que solo obtienen información y no la modifican.\n",
    "\n",
    "- La petición POST se utiliza para enviar información al servidor. Se utiliza para enviar datos de un formulario web, subir un archivo o realizar una operación que cambie el estado del servidor. La información se envía en el cuerpo de la solicitud y no es visible para el usuario. Las peticiones POST son menos seguras que las GET ya que pueden tener efectos secundarios, como actualizar o eliminar información en el servidor.\n",
    "\n",
    "Por ejemplo:"
   ]
  },
  {
   "cell_type": "code",
   "execution_count": null,
   "metadata": {},
   "outputs": [],
   "source": [
    "# Do not run code!!! copy and paste code into server.py and run through console!\n",
    "\n",
    "import tornado.ioloop \n",
    "import tornado.web\n",
    "\n",
    "class MainHandler(tornado.web.RequestHandler):\n",
    "    def get(self):\n",
    "        self.render(\"html\\index.html\")\n",
    "        print(\"served\")\n",
    "    def post(self):\n",
    "        searchterm = self.get_argument('searchterm')\n",
    "        print(searchterm)\n",
    "        self.write(searchterm)\n",
    "        \n",
    "\n",
    "def make_app():\n",
    "    return tornado.web.Application([\n",
    "        (r\"/\", MainHandler)\n",
    "    ])\n",
    "\n",
    "if __name__ == \"__main__\":\n",
    "    app = make_app()\n",
    "    app.listen(8888)\n",
    "    print(\"Server started on port 8888\")\n",
    "    tornado.ioloop.IOLoop.current().start()"
   ]
  },
  {
   "cell_type": "markdown",
   "metadata": {},
   "source": [
    "El servidor puede gestionar automaticamente las peticiones de manera estática, por ejemplo:"
   ]
  },
  {
   "cell_type": "code",
   "execution_count": null,
   "metadata": {},
   "outputs": [],
   "source": [
    "# Do not run code!!! copy and paste code into server.py and run through console!\n",
    "\n",
    "import tornado.ioloop \n",
    "import tornado.web\n",
    "\n",
    "class MainHandler(tornado.web.RequestHandler):\n",
    "    def get(self):\n",
    "        self.render(\"html/index.html\")\n",
    "        print(\"served\")\n",
    "    def post(self):\n",
    "        searchterm = self.get_argument('searchterm')\n",
    "        print(searchterm)\n",
    "        self.write(searchterm)\n",
    "\n",
    "def make_app():\n",
    "    return tornado.web.Application([\n",
    "        (r\"/\", MainHandler),\n",
    "        (r\"/html/(.*)\", tornado.web.StaticFileHandler, {\"path\": \"html\"}), # Sirve las páginas HTML\n",
    "        (r\"/resources/(.*)\", tornado.web.StaticFileHandler, {\"path\": \"resources\"}), # sirve los recursos\n",
    "    ])\n",
    "\n",
    "if __name__ == \"__main__\":\n",
    "    app = make_app()\n",
    "    app.listen(8888)\n",
    "    print(\"Server started on port 8888\")\n",
    "    tornado.ioloop.IOLoop.current().start()"
   ]
  },
  {
   "cell_type": "markdown",
   "metadata": {},
   "source": [
    "Para pasar argumentos a la hora de renderizar la web, utilizamos keyword arguments y en el HTML recuperamos el valor utilizando \"{{ }}\", por ejemplo:"
   ]
  },
  {
   "cell_type": "code",
   "execution_count": null,
   "metadata": {},
   "outputs": [],
   "source": [
    "# Do not run code!!! copy and paste code into server.py and run through console!\n",
    "\n",
    "import tornado.ioloop \n",
    "import tornado.web\n",
    "\n",
    "class MainHandler(tornado.web.RequestHandler):\n",
    "    def get(self):\n",
    "        self.render(\"html/index.html\")\n",
    "        print(\"served\")\n",
    "    def post(self):\n",
    "        searchterm = self.get_argument('searchterm')\n",
    "        print(searchterm)\n",
    "        self.render(\"html/searchpage.html\", searchterm=searchterm) # Cuando recibamos un término de búsqueda servimos la web. Aquí podríamos psasr toda la información que quisieramos.\n",
    "        \n",
    "\n",
    "def make_app():\n",
    "    return tornado.web.Application([\n",
    "        (r\"/\", MainHandler),\n",
    "        (r\"/html/(.*)\", tornado.web.StaticFileHandler, {\"path\": \"html\"}), # Nos hace la vida más sencilla \n",
    "        (r\"/resources/(.*)\", tornado.web.StaticFileHandler, {\"path\": \"resources\"}), # sirve los recursos\n",
    "    ])\n",
    "\n",
    "if __name__ == \"__main__\":\n",
    "    app = make_app()\n",
    "    app.listen(8888)\n",
    "    print(\"Server started on port 8888\")\n",
    "    tornado.ioloop.IOLoop.current().start()"
   ]
  },
  {
   "cell_type": "markdown",
   "metadata": {},
   "source": [
    "En HTML simplemente: "
   ]
  },
  {
   "cell_type": "code",
   "execution_count": null,
   "metadata": {
    "vscode": {
     "languageId": "html"
    }
   },
   "outputs": [],
   "source": [
    "<h2>Mostrando resultados de: {{searchterm}}</h2>"
   ]
  },
  {
   "cell_type": "markdown",
   "metadata": {},
   "source": [
    "Lo que hemos conseguido es: \n",
    "\n",
    "\n",
    "![img](resources\\1.gif \"img\")\n"
   ]
  },
  {
   "cell_type": "markdown",
   "metadata": {},
   "source": [
    "Hasta ahora tenemos lo necesario para crear una aplicación web. Este framework también puede usar para crear rápidamente una API REST de esta manera:"
   ]
  },
  {
   "cell_type": "code",
   "execution_count": null,
   "metadata": {},
   "outputs": [],
   "source": [
    "# Do not run code!!! copy and paste code into server.py and run through console!\n",
    "\n",
    "import tornado.ioloop \n",
    "import tornado.web\n",
    "import json\n",
    "\n",
    "\n",
    "\n",
    "class MainHandler(tornado.web.RequestHandler):\n",
    "    def get(self):\n",
    "        self.render(\"html/index.html\")\n",
    "    def post(self):\n",
    "        searchterm = self.get_argument('searchterm')\n",
    "        self.render(\"html/searchpage.html\", searchterm=searchterm)\n",
    "        \n",
    "class ApiHandler(tornado.web.RequestHandler):\n",
    "    def get(self,data):\n",
    "        vehiculos = \"\"\n",
    "        with open(\"resources/vehiculos.json\", \"r\") as f:\n",
    "            print(data)\n",
    "            vehiculos = json.dumps(json.load(f))\n",
    "            self.write(vehiculos)\n",
    "            \n",
    "\n",
    "def make_app():\n",
    "    return tornado.web.Application([\n",
    "        (r\"/\", MainHandler),\n",
    "        (r\"/vehiculos/(.*)\",ApiHandler),\n",
    "        (r\"/html/(.*)\", tornado.web.StaticFileHandler, {\"path\": \"html\"}), # Nos hace la vida más sencilla \n",
    "        (r\"/resources/(.*)\", tornado.web.StaticFileHandler, {\"path\": \"resources\"}), # sirve los recursos\n",
    "    ])\n",
    "\n",
    "if __name__ == \"__main__\":\n",
    "    app = make_app()\n",
    "    app.listen(8888)\n",
    "    print(\"Server started on port 8888\")\n",
    "    tornado.ioloop.IOLoop.current().start()"
   ]
  },
  {
   "cell_type": "markdown",
   "metadata": {},
   "source": [
    "y en el html incluimos este script:"
   ]
  },
  {
   "cell_type": "code",
   "execution_count": null,
   "metadata": {
    "vscode": {
     "languageId": "javascript"
    }
   },
   "outputs": [],
   "source": [
    "    var url = \"http://\" + window.location.host + \"/vehiculos/\"+'{{searchterm}}'\n",
    "    \n",
    "    async function exampleFetch(url) {\n",
    "        const response = await fetch(url);\n",
    "        const json = await response.text();\n",
    "        var vehiculos = await JSON.parse(json);\n",
    "        console.log(vehiculos);\n",
    "    }    \n",
    "    console.log(url);\n",
    "\n",
    "    exampleFetch(url)"
   ]
  },
  {
   "cell_type": "markdown",
   "metadata": {},
   "source": [
    "Podemos utilizar el formulario POST anterior para hacer una consulta GET usando la API REST, de esta forma:"
   ]
  },
  {
   "cell_type": "code",
   "execution_count": null,
   "metadata": {},
   "outputs": [],
   "source": [
    "# Do not run code!!! copy and paste code into server.py and run through console!\n",
    "\n",
    "import tornado.ioloop\n",
    "import tornado.web\n",
    "import json\n",
    "\n",
    "\n",
    "class MainHandler(tornado.web.RequestHandler):\n",
    "    def get(self):\n",
    "        self.render(\"html/index.html\")\n",
    "\n",
    "    def post(self):\n",
    "        searchterm = self.get_argument('searchterm')\n",
    "        self.render(\"html/searchpage.html\", searchterm=searchterm)\n",
    "\n",
    "\n",
    "class ApiHandler(tornado.web.RequestHandler):\n",
    "    def get(self, data):\n",
    "        palabras = data.split()\n",
    "        print(palabras)\n",
    "        resultados = []\n",
    "        with open(\"resources/vehiculos.json\", \"r\", encoding=\"utf-8-sig\") as f:\n",
    "            vehiculos = json.load(f)\n",
    "            vehiculos = vehiculos['vehiculos']\n",
    "            for vehiculo in vehiculos:\n",
    "                for palabra in palabras:\n",
    "                    if( palabra.lower() in [vehiculo['marca'].lower(),vehiculo['modelo'].lower(),vehiculo['combustible'].lower(), str(vehiculo[\"año\"])]):\n",
    "                        resultados.append(vehiculo)\n",
    "        self.write(json.dumps(resultados))\n",
    "\n",
    "\n",
    "def make_app():\n",
    "    return tornado.web.Application([\n",
    "        (r\"/\", MainHandler),\n",
    "        (r\"/vehiculos/(.*)\", ApiHandler),\n",
    "        (r\"/html/(.*)\", tornado.web.StaticFileHandler,{\"path\": \"html\"}),  # Nos hace la vida más sencilla\n",
    "        (r\"/resources/(.*)\", tornado.web.StaticFileHandler,{\"path\": \"resources\"}),  # sirve los recursos\n",
    "    ])\n",
    "\n",
    "\n",
    "if __name__ == \"__main__\":\n",
    "    app = make_app()\n",
    "    app.listen(8888)\n",
    "    print(\"Server started on port 8888\")\n",
    "    tornado.ioloop.IOLoop.current().start()\n"
   ]
  },
  {
   "cell_type": "markdown",
   "metadata": {},
   "source": [
    "Y editamos un poco el script para mostrar una tabla con los resultados de la búsqueda, por ejemplo:"
   ]
  },
  {
   "cell_type": "code",
   "execution_count": null,
   "metadata": {
    "vscode": {
     "languageId": "javascript"
    }
   },
   "outputs": [],
   "source": [
    "var url = \"http://\" + window.location.host + \"/vehiculos/\" + '{{searchterm}}'\n",
    "async function exampleFetch(url) {\n",
    "\n",
    "    const response = await fetch(url);\n",
    "    const json = await response.text();\n",
    "    var vehiculos = await JSON.parse(json);\n",
    "    console.log(vehiculos);\n",
    "\n",
    "    result = document.getElementById('log')\n",
    "\n",
    "    html = '<table class=\"table table-striped\"><thead><tr><th>Marca</th><th>Modelo</th><th>Año</th><th>Kilometros</th><th>Combustible</th><th>Descripción</th></tr></thead><tbody>'\n",
    "\n",
    "    vehiculos.forEach(vehiculo => {\n",
    "        html += '<tr><td>' + vehiculo['marca'] + '</td><td>' + vehiculo['modelo'] + '</td><td>' + vehiculo['año'] + '</td><td>' + vehiculo['kilometros'] + '</td><td>' + vehiculo['combustible'] + '</td><td>' + vehiculo['descripción'] + '</td></tr>'\n",
    "    });\n",
    "\n",
    "    html += \"</tbody> </table>\"\n",
    "\n",
    "    result.innerHTML = html\n",
    "\n",
    "\n",
    "}\n",
    "console.log(url);\n",
    "\n",
    "exampleFetch(url)"
   ]
  },
  {
   "cell_type": "markdown",
   "metadata": {},
   "source": [
    "En resumen, lo que realizamos es lo siguiente:\n",
    "\n",
    "![img](resources\\2.gif \"img\")\n",
    "\n",
    "Evidentemente esto es una ejemplo de gestión de las peticiones GET y POST y esto se puede realizar de muchas otras formas más cómodas."
   ]
  },
  {
   "cell_type": "markdown",
   "metadata": {},
   "source": [
    "Esta ha sido una introducción básica al desarrollo web en Python usando Tornado. En Tornado se pueden configurar cookies, certificados HTTPS y añadir multitud de capacidades, manteniendo un diseño simple, legible y mantenible.\n",
    "\n",
    "¡Empecemos la aventura de crear aplicaciones web poderosas y escalables juntos!"
   ]
  }
 ],
 "metadata": {
  "kernelspec": {
   "display_name": "Python 3.10.9 64-bit (microsoft store)",
   "language": "python",
   "name": "python3"
  },
  "language_info": {
   "codemirror_mode": {
    "name": "ipython",
    "version": 3
   },
   "file_extension": ".py",
   "mimetype": "text/x-python",
   "name": "python",
   "nbconvert_exporter": "python",
   "pygments_lexer": "ipython3",
   "version": "3.10.9"
  },
  "orig_nbformat": 4,
  "vscode": {
   "interpreter": {
    "hash": "85aece5883f23cf93a903b25fd3f6a5833dab6da9d10cf403dbbc785be5e4181"
   }
  }
 },
 "nbformat": 4,
 "nbformat_minor": 2
}

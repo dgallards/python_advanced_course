{
 "cells": [
  {
   "cell_type": "markdown",
   "metadata": {},
   "source": [
    "# PyQt\n",
    "\n",
    "## Qué es PyQt\n",
    "\n",
    "PyQt es una biblioteca de Python que proporciona un enlace para el framework de desarrollo de interfaz de usuario Qt. Qt es un framework multiplataforma desarrollado por la compañía Qt Company que se utiliza para crear aplicaciones de escritorio, móviles y embebidas. Es ampliamente utilizado en el desarrollo empresarial debido a su flexibilidad y facilidad de uso.\n",
    "\n",
    "Una de las principales ventajas de Qt es su capacidad para desarrollar aplicaciones multiplataforma con un solo código fuente. Esto significa que los desarrolladores pueden escribir el código una vez y ejecutarlo en varias plataformas, como Windows, MacOS, Linux, iOS y Android. Esto significa menos tiempo y esfuerzo dedicado al mantenimiento del código, lo que se traduce en un aumento de la eficiencia y la productividad.\n",
    "\n",
    "PyQt es una excelente opción para el desarrollo de aplicaciones de interfaz de usuario debido a su capacidad para crear aplicaciones multiplataforma con un solo código fuente, una gran cantidad de herramientas de desarrollo integradas y una comunidad activa y recursos de aprendizaje."
   ]
  },
  {
   "cell_type": "code",
   "execution_count": 1,
   "metadata": {},
   "outputs": [
    {
     "data": {
      "text/plain": [
       "0"
      ]
     },
     "execution_count": 1,
     "metadata": {},
     "output_type": "execute_result"
    }
   ],
   "source": [
    "import sys\n",
    "from PyQt5.QtWidgets import QApplication, QLabel\n",
    "\n",
    "app = QApplication(sys.argv)\n",
    "label = QLabel(\"Hello World!\")\n",
    "label.show()\n",
    "app.exec_()"
   ]
  },
  {
   "cell_type": "markdown",
   "metadata": {},
   "source": [
    "## Crear interfaces\n",
    "\n",
    "Para crear interfaces podemos usar la herramienta QtDesigner, incluida en el paquete de Qt. Tambien podriamos usar QtCreator, pero requiere crear un proyecto y configurarlo todo lo que requiere más tiempo, además de tener que usar el IDE de Qt.\n",
    "\n",
    "Nosotros la instalamos desde aqui: [Qt Designer on Windows](https://build-system.fman.io/qt-designer-download \"Qt Designer on Windows\")\n",
    "\n",
    "Los archivos \".ui\" los podemos importar a Python mediante PyQt5"
   ]
  },
  {
   "cell_type": "code",
   "execution_count": 2,
   "metadata": {},
   "outputs": [
    {
     "data": {
      "text/plain": [
       "0"
      ]
     },
     "execution_count": 2,
     "metadata": {},
     "output_type": "execute_result"
    }
   ],
   "source": [
    "from PyQt5 import QtWidgets, uic\n",
    "from PyQt5.QtCore import QObject, QThread, pyqtSignal, pyqtSlot\n",
    "\n",
    "class InitialScreen(QtWidgets.QDialog):\n",
    "    def __init__(self):\n",
    "        super(InitialScreen, self).__init__()\n",
    "        uic.loadUi(\"resources\\main.ui\", self)\n",
    "\n",
    "class ui:\n",
    "    def __init__(self):\n",
    "        self.initialScreen = InitialScreen()        \n",
    "        self.initialScreen.show()\n",
    "\n",
    "interface = ui()\n",
    "app.exec_()"
   ]
  },
  {
   "cell_type": "markdown",
   "metadata": {},
   "source": [
    "## Programar interfaces con Qt\n",
    "\n",
    "Juntos, PyQt y Qt Designer permiten desarrollar aplicaciones de escritorio de manera rápida y sencilla, ya que el diseño de la interfaz se puede hacer visualmente en Qt Designer y luego se pueden añadir funcionalidades utilizando Python en PyQt.\n",
    "\n",
    "Vamos a intentar replicar esta aplicación en el apartado de arriba, la ejecutamos y copiamos su funcionalidad"
   ]
  },
  {
   "cell_type": "code",
   "execution_count": 3,
   "metadata": {},
   "outputs": [
    {
     "data": {
      "text/plain": [
       "0"
      ]
     },
     "execution_count": 3,
     "metadata": {},
     "output_type": "execute_result"
    }
   ],
   "source": [
    "import base64\n",
    "from PyQt5 import QtWidgets, uic\n",
    "from PyQt5.QtCore import QObject, QThread, pyqtSignal, pyqtSlot\n",
    "\n",
    "class InitialScreen(QtWidgets.QDialog):\n",
    "\n",
    "    filename = None\n",
    "\n",
    "    content = None\n",
    "\n",
    "    def __init__(self):\n",
    "        super(InitialScreen, self).__init__()\n",
    "        uic.loadUi(\"resources\\main2.ui\", self)\n",
    "        self.pushButton_2.clicked.connect(self.loadFile)\n",
    "        self.plainTextEdit.setReadOnly(True)\n",
    "        self.pushButton_3.clicked.connect(self.encrypt)\n",
    "\n",
    "    def loadFile(self):\n",
    "        options = QtWidgets.QFileDialog.Options()\n",
    "        options |= QtWidgets.QFileDialog.ReadOnly\n",
    "        file_name, _ = QtWidgets.QFileDialog.getOpenFileName(self, \"Open file\", \"\", \"Text files (*.txt);;All Files (*)\", options=options)\n",
    "        if file_name:\n",
    "            with open(file_name, 'r', encoding=\"utf-8\") as file:\n",
    "                # Do something with the file object\n",
    "                self.content = file.read()\n",
    "                self.plainTextEdit.appendPlainText(self.content)\n",
    "    \n",
    "    def encrypt(self):\n",
    "        encodedData = None\n",
    "        match self.comboBox.currentText():\n",
    "            case 'ROT 47':         # Case 1\n",
    "                encodedData = self.rot47(self.content)\n",
    "            case 'Base64':   # Case 2\n",
    "                encodedData = str(base64.b64encode(self.content.encode()), 'utf-8')\n",
    "\n",
    "        with open(self.lineEdit.displayText()+\".txt\", 'w', encoding=\"utf-8\") as file:\n",
    "                # Do something with the file object\n",
    "                file.write(encodedData)\n",
    "    \n",
    "    def rot47(self, input):\n",
    "        return \"\".join([chr(33 + ((ord(char) + 14) % 94)) for char in input])\n",
    "\n",
    "class ui:\n",
    "    def __init__(self):\n",
    "        self.initialScreen = InitialScreen()        \n",
    "        self.initialScreen.show()\n",
    "        \n",
    "        \n",
    "\n",
    "interface = ui()\n",
    "app.exec_()"
   ]
  }
 ],
 "metadata": {
  "kernelspec": {
   "display_name": "Python 3.10.9 64-bit (microsoft store)",
   "language": "python",
   "name": "python3"
  },
  "language_info": {
   "codemirror_mode": {
    "name": "ipython",
    "version": 3
   },
   "file_extension": ".py",
   "mimetype": "text/x-python",
   "name": "python",
   "nbconvert_exporter": "python",
   "pygments_lexer": "ipython3",
   "version": "3.10.10"
  },
  "orig_nbformat": 4,
  "vscode": {
   "interpreter": {
    "hash": "85aece5883f23cf93a903b25fd3f6a5833dab6da9d10cf403dbbc785be5e4181"
   }
  }
 },
 "nbformat": 4,
 "nbformat_minor": 2
}

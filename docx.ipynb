{
 "cells": [
  {
   "cell_type": "markdown",
   "metadata": {},
   "source": [
    "# Creación de docx usando Python\n",
    "\n",
    "## Docx\n",
    "\n",
    "DOCX es un formato de archivo utilizado por el software de procesamiento de texto Microsoft Word a partir de la versión 2007. DOCX es una abreviatura de \"Document Open XML\", lo que significa que utiliza un lenguaje de marcado XML para representar documentos de texto.\n",
    "\n",
    "El formato DOCX es una mejora respecto al formato anterior de Microsoft Word, que utilizaba la extensión de archivo .doc. Al utilizar XML, el formato DOCX permite que los documentos sean más compatibles con otros programas y sistemas operativos, y también permite que los archivos sean más pequeños y fáciles de manipular.\n",
    "\n",
    "Los archivos DOCX pueden contener texto, imágenes, tablas, gráficos y otros elementos de formato avanzado. Además, también pueden incluir macros y otros programas integrados en el archivo.\n",
    "\n",
    "## Python-docx\n",
    "\n",
    "Python-docx es una biblioteca de Python que permite trabajar con archivos de formato DOCX de Microsoft Word. La biblioteca se utiliza para crear, modificar y leer documentos de Word a través de la programación en Python.\n",
    "\n",
    "Con Python-docx, los usuarios pueden crear y modificar documentos de Word, agregando o eliminando texto, tablas, imágenes, gráficos y otros elementos. También es posible aplicar formatos a los elementos del documento, como fuentes, tamaños de fuente, estilos y colores.\n",
    "\n",
    "### Instalación \n",
    "\n",
    "Para utilizar Python-docx, necesitaremos su biblioteca llamada Python-docx. Para instalarla podemos ejecutar esta línea\n",
    "\n",
    "`$ pip install python-docx`\n",
    "\n",
    "Si aparece un error, podríamos ejecutar\n",
    "\n",
    "`$ pip install --trusted-host pypi.org --trusted-host files.pythonhosted.org python-docx`\n",
    "\n",
    "o bien:\n",
    "\n",
    "`$ pip install --user --trusted-host pypi.org --trusted-host files.pythonhosted.org python-docx`\n",
    "\n",
    "Comprobamos:"
   ]
  },
  {
   "cell_type": "code",
   "execution_count": 14,
   "metadata": {},
   "outputs": [],
   "source": [
    "from docx import Document\n",
    "import docx\n",
    "\n",
    "document = Document()\n",
    "\n",
    "document.add_heading('Título', 0)\n",
    "\n",
    "document.save('ejemplo.docx')"
   ]
  },
  {
   "cell_type": "markdown",
   "metadata": {},
   "source": [
    "### Párrafos\n",
    "\n",
    "Un párrafo es uno de los elementos más simples que puedes agregar a un documento de Word. Puedes agregar un párrafo utilizando el método add_paragraph:"
   ]
  },
  {
   "cell_type": "code",
   "execution_count": 4,
   "metadata": {},
   "outputs": [],
   "source": [
    "p = document.add_paragraph('Este es un párrafo de texto.')"
   ]
  },
  {
   "cell_type": "markdown",
   "metadata": {},
   "source": [
    "Una vez que has agregado un párrafo, puedes cambiar su estilo y formato. Por ejemplo, puedes cambiar el tamaño de fuente y el estilo utilizando el atributo style:"
   ]
  },
  {
   "cell_type": "code",
   "execution_count": 16,
   "metadata": {},
   "outputs": [],
   "source": [
    "p.style = 'Title'\n",
    "p.add_run().font.size = docx.shared.Pt(16)\n"
   ]
  },
  {
   "cell_type": "markdown",
   "metadata": {},
   "source": [
    "También puedes agregar texto a un párrafo que ya existe:"
   ]
  },
  {
   "cell_type": "code",
   "execution_count": 17,
   "metadata": {},
   "outputs": [
    {
     "data": {
      "text/plain": [
       "<docx.text.run.Run at 0x2b650d4afb0>"
      ]
     },
     "execution_count": 17,
     "metadata": {},
     "output_type": "execute_result"
    }
   ],
   "source": [
    "p.add_run('Este es otro texto dentro del mismo párrafo.')"
   ]
  },
  {
   "cell_type": "markdown",
   "metadata": {},
   "source": [
    "### Encabezados\n",
    "\n",
    "Los encabezados son otra forma común de agregar contenido a un documento de Word. \n",
    "\n",
    "El argumento level especifica el nivel del encabezado (1 para el nivel superior, 2 para el segundo nivel, y así sucesivamente).\n",
    "\n",
    "Puedes agregar un encabezado utilizando el método add_heading:\n"
   ]
  },
  {
   "cell_type": "code",
   "execution_count": 18,
   "metadata": {},
   "outputs": [
    {
     "data": {
      "text/plain": [
       "<docx.text.paragraph.Paragraph at 0x2b6504a5e70>"
      ]
     },
     "execution_count": 18,
     "metadata": {},
     "output_type": "execute_result"
    }
   ],
   "source": [
    "document.add_heading('Este es un encabezado', level=1)"
   ]
  },
  {
   "cell_type": "markdown",
   "metadata": {},
   "source": [
    "### Tablas\n",
    "\n",
    "Las tablas son una forma común de agregar contenido estructurado a un documento de Word. Puedes agregar una tabla utilizando el método add_table:"
   ]
  },
  {
   "cell_type": "code",
   "execution_count": 19,
   "metadata": {},
   "outputs": [],
   "source": [
    "table = document.add_table(rows=3, cols=3)\n",
    "for i in range(3):\n",
    "    row = table.rows[i]\n",
    "    for j in range(3):\n",
    "        row.cells[j].text = f'Fila {i}, Columna {j}'"
   ]
  },
  {
   "cell_type": "markdown",
   "metadata": {},
   "source": [
    "También puedes dar formato a una tabla cambiando su estilo:"
   ]
  },
  {
   "cell_type": "code",
   "execution_count": null,
   "metadata": {},
   "outputs": [],
   "source": [
    "table.style = 'Table Grid'"
   ]
  },
  {
   "cell_type": "markdown",
   "metadata": {},
   "source": [
    "### Imágenes\n",
    "\n",
    "Por último, puedes agregar imágenes a un documento de Word utilizando el método add_picture.\n",
    "\n",
    "Este ejemplo agrega una imagen llamada mi_imagen.png con una anchura de 10 centímetros y una altura de 10 centímetros:"
   ]
  },
  {
   "cell_type": "code",
   "execution_count": 21,
   "metadata": {},
   "outputs": [
    {
     "data": {
      "text/plain": [
       "<docx.shape.InlineShape at 0x2b650cc1fc0>"
      ]
     },
     "execution_count": 21,
     "metadata": {},
     "output_type": "execute_result"
    }
   ],
   "source": [
    "document.add_picture(\"resources/business-logo.jpg\", width=docx.shared.Cm(10), height=docx.shared.Cm(10))"
   ]
  },
  {
   "cell_type": "code",
   "execution_count": 33,
   "metadata": {},
   "outputs": [
    {
     "data": {
      "image/png": "[encoded data removed]",
      "text/plain": [
       "<Figure size 640x480 with 1 Axes>"
      ]
     },
     "metadata": {},
     "output_type": "display_data"
    }
   ],
   "source": [
    "import docx\n",
    "import numpy as np\n",
    "import matplotlib.pyplot as plt\n",
    "\n",
    "# Crear el documento\n",
    "document = docx.Document()\n",
    "\n",
    "# Agregar un encabezado de nivel 1 con un título\n",
    "document.add_heading('Título del Documento', level=0)\n",
    "\n",
    "# Agregar un párrafo\n",
    "document.add_paragraph('Este es un párrafo de texto.')\n",
    "\n",
    "# Agregar una tabla con datos de ejemplo\n",
    "table = document.add_table(rows=4, cols=5)\n",
    "hdr_cells = table.rows[0].cells\n",
    "hdr_cells[0].text = 'Encabezado 1'\n",
    "hdr_cells[1].text = 'Encabezado 2'\n",
    "hdr_cells[2].text = 'Encabezado 3'\n",
    "hdr_cells[3].text = 'Encabezado 4'\n",
    "hdr_cells[4].text = 'Encabezado 5'\n",
    "for i in range(1, 4):\n",
    "    row_cells = table.rows[i].cells\n",
    "    row_cells[0].text = f'Dato {i}, Columna 1'\n",
    "    row_cells[1].text = f'Dato {i}, Columna 2'\n",
    "    row_cells[2].text = f'Dato {i}, Columna 3'\n",
    "    row_cells[3].text = f'Dato {i}, Columna 4'\n",
    "    row_cells[4].text = f'Dato {i}, Columna 5'\n",
    "\n",
    "# Agregar un encabezado de nivel 2 con un título\n",
    "document.add_heading('Gráfico de Líneas', level=2)\n",
    "\n",
    "# Generar un gráfico de líneas de una gaussiana\n",
    "x = np.linspace(-5, 5, 1000)\n",
    "y = np.exp(-(x**2)/2)/np.sqrt(2*np.pi)\n",
    "plt.plot(x, y)\n",
    "plt.xlabel('Eje x')\n",
    "plt.ylabel('Eje y')\n",
    "plt.title('Gráfico de una Gaussiana')\n",
    "plt.savefig('grafico_lineas.png')\n",
    "\n",
    "# Agregar la imagen del gráfico de líneas al documento\n",
    "document.add_picture('grafico_lineas.png')\n",
    "\n",
    "# Agregar otro encabezado de nivel 2 con un título\n",
    "document.add_heading('Gráfico de Barras', level=2)\n",
    "\n",
    "# Generar un gráfico de barras de datos aleatorios\n",
    "x = ['A', 'B', 'C', 'D', 'E']\n",
    "y = np.random.rand(5)\n",
    "plt.clf()\n",
    "plt.bar(x, y)\n",
    "plt.xlabel('Eje x')\n",
    "plt.ylabel('Eje y')\n",
    "plt.title('Gráfico de Barras')\n",
    "plt.savefig('grafico_barras.png')\n",
    "\n",
    "# Agregar la imagen del gráfico de barras al documento\n",
    "document.add_picture('grafico_barras.png')\n",
    "\n",
    "# Guardar el documento\n",
    "document.save('mi_documento.docx')"
   ]
  },
  {
   "cell_type": "markdown",
   "metadata": {},
   "source": [
    "### Leer ficheros"
   ]
  },
  {
   "cell_type": "code",
   "execution_count": 17,
   "metadata": {},
   "outputs": [],
   "source": [
    "import docx\n",
    "\n",
    "documento = docx.Document('resources/factura-ordinaria.docx') \n",
    "\n",
    "tabla = documento.tables[0]\n",
    "\n",
    "datos_cliente = {\n",
    "    'Nombre': 'Alejandro Rodriguez Rodriguez',\n",
    "    'Dirección': 'Av. de la Soledad SN, Toledo',\n",
    "    'NIF': '654332164N',\n",
    "    'Código postal': '33365',\n",
    "    'Teléfono': '998556331',\n",
    "    'INVOICE': 'ACCHAU-6564'\n",
    "}\n",
    "\n",
    "datos_factura = {\n",
    "    'Productos':[{\n",
    "        'Descripción': '245512455N-36478',\n",
    "        'Unidades': 25,\n",
    "        'Precio unitario':100.00,\n",
    "        'Total':2500.00\n",
    "    },{\n",
    "        'Descripción': '412564415N-36478',\n",
    "        'Unidades': 30,\n",
    "        'Precio unitario':200.00,\n",
    "        'Total':6000.00\n",
    "    },{\n",
    "        'Descripción': '245512455N-36478',\n",
    "        'Unidades': 1,\n",
    "        'Precio unitario':1899.99,\n",
    "        'Total':1899.99\n",
    "    }],\n",
    "    'Total':[{\n",
    "        'Subtotal': 10399.99 ,\n",
    "        'Descuento': '0 %',\n",
    "        'IVA%': '21 %',\n",
    "        'IVA': 2183.99,\n",
    "        'Total': 12583.99\n",
    "    }]\n",
    "}\n",
    "\n",
    "for i, (clave, valor) in enumerate(datos_cliente.items()):\n",
    "    tabla.rows[9+i].cells[0].text += valor\n",
    "\n",
    "# Fechas\n",
    "tabla.rows[17].cells[0].text += '06/03/2023'\n",
    "tabla.rows[19].cells[0].text += '06/03/2024'\n",
    "\n",
    "# Productos:\n",
    "for i,producto in enumerate(datos_factura['Productos']):\n",
    "    tabla.rows[16+i].cells[2].text += producto['Descripción']\n",
    "    tabla.rows[16+i].cells[3].text += str(producto['Unidades'])\n",
    "    tabla.rows[16+i].cells[4].text += str(producto['Precio unitario'])\n",
    "    tabla.rows[16+i].cells[6].text += str(producto['Total'])\n",
    "\n",
    "# TOTAL:\n",
    "valor = datos_factura['Total'][0]\n",
    "tabla.rows[24].cells[6].text += str(valor['Subtotal'])\n",
    "tabla.rows[25].cells[6].text += str(valor['Descuento'])\n",
    "tabla.rows[26].cells[6].text += str(valor['IVA%'])\n",
    "tabla.rows[27].cells[6].text += str(valor['IVA'])\n",
    "tabla.rows[29].cells[6].text += str(valor['Total'])\n",
    "\n",
    "\n",
    "documento.save('factura.docx')"
   ]
  },
  {
   "cell_type": "markdown",
   "metadata": {},
   "source": [
    "Un último paso podría ser convertirlo a pdf, para que se pueda imprimir, para esto usamos libreoffice en modo headless\n",
    "\n"
   ]
  },
  {
   "cell_type": "code",
   "execution_count": 18,
   "metadata": {},
   "outputs": [
    {
     "data": {
      "text/plain": [
       "CompletedProcess(args='\"C:/Program Files/LibreOffice/program/soffice.exe\" --convert-to pdf --outdir \".\" \"factura.docx\"', returncode=0)"
      ]
     },
     "execution_count": 18,
     "metadata": {},
     "output_type": "execute_result"
    }
   ],
   "source": [
    "import subprocess\n",
    "\n",
    "loffice = 'C:/Program Files/LibreOffice/program/soffice.exe'\n",
    "\n",
    "subprocess.run('\"{}\" --convert-to pdf --outdir \"{}\" \"{}\"'.format(loffice,'.', 'factura.docx',), shell=True)"
   ]
  }
 ],
 "metadata": {
  "kernelspec": {
   "display_name": "Python 3.10.10 64-bit (microsoft store)",
   "language": "python",
   "name": "python3"
  },
  "language_info": {
   "codemirror_mode": {
    "name": "ipython",
    "version": 3
   },
   "file_extension": ".py",
   "mimetype": "text/x-python",
   "name": "python",
   "nbconvert_exporter": "python",
   "pygments_lexer": "ipython3",
   "version": "3.10.10"
  },
  "orig_nbformat": 4,
  "vscode": {
   "interpreter": {
    "hash": "85aece5883f23cf93a903b25fd3f6a5833dab6da9d10cf403dbbc785be5e4181"
   }
  }
 },
 "nbformat": 4,
 "nbformat_minor": 2
}

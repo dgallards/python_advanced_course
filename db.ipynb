{
 "cells": [
  {
   "cell_type": "markdown",
   "metadata": {},
   "source": [
    "# Uso de bases de datos con Python\n",
    "\n",
    "## MySQL\n",
    "\n",
    "MySQL es un sistema de gestión de bases de datos relacionales (RDBMS, por sus siglas en inglés) de código abierto. \n",
    "\n",
    "Es uno de los sistemas de gestión de bases de datos más populares en el mundo, especialmente en aplicaciones web y en la creación de sitios web dinámicos. MySQL permite almacenar, organizar y recuperar grandes cantidades de información en una base de datos, utilizando lenguaje SQL (Structured Query Language) para interactuar con la base de datos.\n",
    "\n",
    "### Python y MySQL\n",
    "\n",
    "Para conectarnos a la BBDD usaremos MySQL Connector. MySQL Connector/Python es un driver de software que proporciona una interfaz para conectarse a una base de datos MySQL desde Python. \n",
    "\n",
    "Este conector es un módulo de Python que se utiliza para conectarse a una base de datos MySQL y realizar operaciones en ella. Proporciona una interfaz de programación de aplicaciones (API) para interactuar con MySQL, permitiendo a los programas de Python enviar comandos SQL a una base de datos MySQL y recibir resultados.\n",
    "\n",
    "\n",
    "#### Instalación\n",
    "\n",
    "Para utilizar BeautifulSoup, necesitaremos su biblioteca llamada beautifulsoup4. Para instalarla podemos ejecutar esta línea\n",
    "\n",
    "`$ pip install mysql-connector-python`\n",
    "\n",
    "Si aparece un error, podríamos ejecutar\n",
    "\n",
    "`$ pip install --trusted-host pypi.org --trusted-host files.pythonhosted.org mysql-connector-python`\n",
    "\n",
    "o bien:\n",
    "\n",
    "`$ pip install --user --trusted-host pypi.org --trusted-host files.pythonhosted.org mysql-connector-python`\n",
    "\n",
    "Para testear, vamos a crearnos una cuenta en https://www.freemysqlhosting.net/account/ y creamos un BBDD."
   ]
  },
  {
   "cell_type": "code",
   "execution_count": 13,
   "metadata": {},
   "outputs": [],
   "source": [
    "import mysql.connector\n",
    "\n",
    "# Crea una conexión al servidor MySQL\n",
    "cnx = mysql.connector.connect(user='sql11592027', password='fHdBI4xwrW', host='sql11.freemysqlhosting.net', database='sql11592027')\n",
    "\n",
    "# Crea un cursor para ejecutar consultas\n",
    "cursor = cnx.cursor()"
   ]
  },
  {
   "cell_type": "code",
   "execution_count": 14,
   "metadata": {},
   "outputs": [
    {
     "name": "stdout",
     "output_type": "stream",
     "text": [
      "('alumnos',)\n"
     ]
    }
   ],
   "source": [
    "\n",
    "# Ejecuta una consulta CREATE\n",
    "cursor.execute(\"CREATE TABLE alumnos (name VARCHAR(255), age VARCHAR(255))\")\n",
    "\n",
    "# Mostramos las tablas\n",
    "cursor.execute(\"SHOW TABLES\")\n",
    "\n",
    "# Imprime los resultados de la consulta\n",
    "for x in cursor:\n",
    "  print(x)\n",
    "\n",
    "# Borramos la tabla\n",
    "cursor.execute(\"DROP TABLE alumnos\")\n",
    "\n",
    "# Mostramos las tablas\n",
    "cursor.execute(\"SHOW TABLES\")\n",
    "\n",
    "# Imprime los resultados de la consulta\n",
    "for x in cursor:\n",
    "  print(x)\n",
    "\n",
    "# Cierra la conexión\n",
    "cnx.close()"
   ]
  }
 ],
 "metadata": {
  "kernelspec": {
   "display_name": "Python 3.10.9 64-bit (microsoft store)",
   "language": "python",
   "name": "python3"
  },
  "language_info": {
   "codemirror_mode": {
    "name": "ipython",
    "version": 3
   },
   "file_extension": ".py",
   "mimetype": "text/x-python",
   "name": "python",
   "nbconvert_exporter": "python",
   "pygments_lexer": "ipython3",
   "version": "3.10.9"
  },
  "orig_nbformat": 4,
  "vscode": {
   "interpreter": {
    "hash": "85aece5883f23cf93a903b25fd3f6a5833dab6da9d10cf403dbbc785be5e4181"
   }
  }
 },
 "nbformat": 4,
 "nbformat_minor": 2
}

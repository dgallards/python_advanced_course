{
 "cells": [
  {
   "cell_type": "markdown",
   "metadata": {},
   "source": [
    "# Uso de bases de datos con Python\n",
    "\n",
    "## MySQL\n",
    "\n",
    "MySQL es un sistema de gestión de bases de datos relacionales (RDBMS, por sus siglas en inglés) de código abierto. \n",
    "\n",
    "Es uno de los sistemas de gestión de bases de datos más populares en el mundo, especialmente en aplicaciones web y en la creación de sitios web dinámicos. MySQL permite almacenar, organizar y recuperar grandes cantidades de información en una base de datos, utilizando lenguaje SQL (Structured Query Language) para interactuar con la base de datos.\n",
    "\n",
    "### Python y MySQL\n",
    "\n",
    "Para conectarnos a la BBDD usaremos MySQL Connector. MySQL Connector es un driver de software que proporciona una interfaz para conectarse a una base de datos MySQL desde Python. \n",
    "\n",
    "Este conector es un módulo que se utiliza para conectarse a una base de datos MySQL y realizar operaciones en ella. Proporciona una interfaz de programación de aplicaciones (API) para interactuar con MySQL, permitiendo a los programas de Python enviar comandos SQL a una base de datos MySQL y recibir resultados.\n",
    "\n",
    "\n",
    "#### Instalación\n",
    "\n",
    "Para utilizar mysql en Python, necesitaremos su biblioteca llamada mysql-connector-python. Para instalarla podemos ejecutar esta línea\n",
    "\n",
    "`$ pip install mysql-connector-python`\n",
    "\n",
    "Si aparece un error, podríamos ejecutar\n",
    "\n",
    "`$ pip install --trusted-host pypi.org --trusted-host files.pythonhosted.org mysql-connector-python`\n",
    "\n",
    "o bien:\n",
    "\n",
    "`$ pip install --user --trusted-host pypi.org --trusted-host files.pythonhosted.org mysql-connector-python`\n",
    "\n",
    "Para testear, vamos a crearnos una cuenta en https://www.freemysqlhosting.net/account/ o https://freedb.tech/ y creamos un BBDD."
   ]
  },
  {
   "cell_type": "code",
   "execution_count": 1,
   "metadata": {},
   "outputs": [],
   "source": [
    "import mysql.connector\n",
    "\n",
    "# Crea una conexión al servidor MySQL\n",
    "cnx = mysql.connector.connect(user='freedb_sqlexampleuser', password='4NwkY%XmQz86ZZ#', host='sql.freedb.tech', database='freedb_sqlexampledb')\n",
    "\n",
    "# Crea un cursor para ejecutar consultas\n",
    "cursor = cnx.cursor()\n"
   ]
  },
  {
   "cell_type": "markdown",
   "metadata": {},
   "source": [
    "## Clausulas SQL\n",
    "\n",
    "En SQL, las cláusulas son instrucciones que se utilizan para definir ciertas características de una consulta, tales como las condiciones de filtrado, la agrupación de los resultados, el ordenamiento de los datos, entre otras. Las cláusulas permiten a los usuarios obtener información más precisa y específica de los datos almacenados en una base de datos. Son fundamentales para construir consultas complejas que permitan obtener información precisa y relevante a partir de grandes cantidades de datos.\n",
    "\n",
    "Cada cláusula tiene una función específica y se utiliza de manera combinada para construir una consulta que cumpla con los requisitos de la información que se desea obtener.\n",
    "\n",
    "Es importante tener en cuenta que no todas las cláusulas son necesarias en todas las consultas SQL. La selección de las cláusulas adecuadas dependerá de las necesidades específicas de cada consulta y de la información que se desee obtener de la base de datos."
   ]
  },
  {
   "cell_type": "markdown",
   "metadata": {},
   "source": [
    "### CREATE\n",
    "\n",
    "La clausula CREATE TABLE en SQL se utiliza para crear una nueva tabla en una base de datos. La sintaxis básica es la siguiente:\n",
    "\n",
    "```sql\n",
    "CREATE TABLE nombre_de_la_tabla (\n",
    "    columna_1 tipo_de_dato,\n",
    "    columna_2 tipo_de_dato,\n",
    "    ...\n",
    "    columna_n tipo_de_dato\n",
    ");\n",
    "```\n",
    "\n",
    "Donde **nombre_de_la_tabla** es el nombre que se le dará a la nueva tabla, **columna_1, columna_2, etc.,** son los nombres de las columnas que se crearán en la tabla, y tipo_de_dato es el tipo de datos que se almacenará en cada columna.\n",
    "\n",
    "Por ejemplo, si quisiéramos crear una tabla llamada empleados con las columnas id (entero), nombre (cadena de caracteres), edad (entero) y salario (flotante), la clausula SQL sería la siguiente:\n",
    "\n",
    "\n",
    "```sql\n",
    "CREATE TABLE empleados (\n",
    "    id INT,\n",
    "    nombre VARCHAR(255),\n",
    "    edad INT,\n",
    "    salario FLOAT\n",
    ");\n",
    "```\n",
    "Por ejemplo, podemos utilizar el siguiente código para crear la tabla empleados en una base de datos llamada mi_base_de_datos:"
   ]
  },
  {
   "cell_type": "code",
   "execution_count": 4,
   "metadata": {},
   "outputs": [],
   "source": [
    "# Crea una conexión al servidor MySQL\n",
    "cnx = mysql.connector.connect(user='freedb_sqlexampleuser', password='4NwkY%XmQz86ZZ#', host='sql.freedb.tech', database='freedb_sqlexampledb')\n",
    "\n",
    "# Crea un cursor para ejecutar consultas\n",
    "cursor = cnx.cursor()\n",
    "\n",
    "cursor.execute(\"CREATE TABLE empleados (id INT, nombre VARCHAR(255), edad INT, salario FLOAT)\")"
   ]
  },
  {
   "cell_type": "markdown",
   "metadata": {},
   "source": [
    "### SHOW y DESC\n",
    "\n",
    "La clausula SHOW en SQL se utiliza para mostrar información sobre la base de datos o las tablas. La sintaxis básica para mostrar todas las tablas en una base de datos es la siguiente:\n",
    "\n",
    "```sql\n",
    "SHOW TABLES;\n",
    "```\n",
    "\n",
    "Esto mostrará una lista de todas las tablas en la base de datos actual. Si queremos ver la estructura de una tabla específica, podemos usar la clausula DESCRIBE o DESC:\n",
    "\n",
    "```sql\n",
    "DESCRIBE nombre_de_la_tabla;\n",
    "```\n",
    "\n",
    "Por ejemplo, vamos a ver la tabla añadida anteriormente:"
   ]
  },
  {
   "cell_type": "code",
   "execution_count": 5,
   "metadata": {},
   "outputs": [
    {
     "name": "stdout",
     "output_type": "stream",
     "text": [
      "('empleados',)\n",
      "('id', 'int', 'YES', '', None, '')\n",
      "('nombre', 'varchar(255)', 'YES', '', None, '')\n",
      "('edad', 'int', 'YES', '', None, '')\n",
      "('salario', 'float', 'YES', '', None, '')\n"
     ]
    }
   ],
   "source": [
    "# Crea una conexión al servidor MySQL\n",
    "cnx = mysql.connector.connect(user='freedb_sqlexampleuser', password='4NwkY%XmQz86ZZ#', host='sql.freedb.tech', database='freedb_sqlexampledb')\n",
    "\n",
    "# Crea un cursor para ejecutar consultas\n",
    "cursor = cnx.cursor()\n",
    "\n",
    "cursor.execute(\"SHOW TABLES\")\n",
    "for tabla in cursor:\n",
    "  print(tabla)\n",
    "\n",
    "cursor.execute(\"DESCRIBE empleados\")\n",
    "for columna in cursor:\n",
    "  print(columna)"
   ]
  },
  {
   "cell_type": "markdown",
   "metadata": {},
   "source": [
    "### INSERT INTO\n",
    "\n",
    "La clausula INSERT INTO en SQL se utiliza para insertar nuevos registros en una tabla existente. La sintaxis básica es la siguiente:\n",
    "\n",
    "```sql\n",
    "INSERT INTO nombre_de_la_tabla (columna_1, columna_2, ..., columna_n) \n",
    "VALUES (valor_1, valor_2, ..., valor_n);\n",
    "```\n",
    "Donde **nombre_de_la_tabla** es el nombre de la tabla, **columna_1, columna_2, etc.** son los nombres de las columnas en las que se insertarán los valores, y **valor_1, valor_2, etc.** son los valores que se insertarán en cada columna.\n",
    "\n",
    "Además utilizamos la función commit() para guardar los cambios en la base de datos y cerramos\n",
    "\n",
    "Por ejemplo, vamos a añadir unos empleados a la dabe de datos:"
   ]
  },
  {
   "cell_type": "code",
   "execution_count": 6,
   "metadata": {},
   "outputs": [],
   "source": [
    "# Crea una conexión al servidor MySQL\n",
    "cnx = mysql.connector.connect(user='freedb_sqlexampleuser', password='4NwkY%XmQz86ZZ#', host='sql.freedb.tech', database='freedb_sqlexampledb')\n",
    "\n",
    "# Crea un cursor para ejecutar consultas\n",
    "cursor = cnx.cursor()\n",
    "\n",
    "cursor.execute(\"INSERT INTO empleados (id, nombre, edad, salario) VALUES (1, 'Juan', 25, 2500.0)\")\n",
    "cursor.execute(\"INSERT INTO empleados (id, nombre, edad, salario) VALUES (2, 'María', 30, 3000.0)\")\n",
    "cursor.execute(\"INSERT INTO empleados (id, nombre, edad, salario) VALUES (3, 'Pedro', 40, 4000.0)\")\n",
    "\n",
    "cnx.commit()\n"
   ]
  },
  {
   "cell_type": "markdown",
   "metadata": {},
   "source": [
    "### SELECT\n",
    "\n",
    "La clausula SELECT en SQL es una de las más utilizadas, y se utiliza para recuperar datos de una o varias tablas en una base de datos. Hay diferentes formas de utilizar la clausula SELECT, pero a continuación te explicaré dos de las más comunes: SELECT * y SELECT con WHERE.\n",
    "\n",
    "SELECT : La sintaxis básica para utilizar SELECT es la siguiente:\n",
    "\n",
    "```sql\n",
    "SELECT * FROM nombre_de_la_tabla;\n",
    "```\n",
    "\n",
    "Esta clausula devuelve todas las columnas y todos los registros de la tabla **nombre_de_la_tabla**. Es importante tener en cuenta que **SELECT&nbsp;*&nbsp;** puede ser muy útil para recuperar todos los datos de una tabla, pero también puede ser ineficiente si la tabla tiene muchas columnas o registros.\n",
    "\n",
    "SELECT con WHERE: La sintaxis básica para utilizar SELECT con WHERE es la siguiente:\n",
    "\n",
    "```sql\n",
    "SELECT columna_1, columna_2, ... FROM nombre_de_la_tabla WHERE condicion;\n",
    "```\n",
    "\n",
    "Esta clausula devuelve las columnas especificadas en **columna_1, columna_2, etc.** y los registros que cumplen con la condicion especificada. \n",
    "La condicion es una expresión booleana que se utiliza para filtrar los registros. Por ejemplo, si queremos seleccionar todos los trabajadores con un salario mayor a 3000, podemos utilizar la siguiente sentencia:\n",
    "\n",
    "```sql\n",
    "SELECT * FROM empleados WHERE salario > 3000;\n",
    "```\n",
    "\n",
    "Esto devolverá todos los registros de la tabla **empleados** donde el valor de la columna **salario** es mayor a 3000.\n",
    "\n",
    "Vamos a ver unos ejemplos en Python:"
   ]
  },
  {
   "cell_type": "code",
   "execution_count": 7,
   "metadata": {},
   "outputs": [
    {
     "name": "stdout",
     "output_type": "stream",
     "text": [
      "Ejemplo 1\n",
      "(1, 'Juan', 25, 2500.0)\n",
      "(2, 'María', 30, 3000.0)\n",
      "(3, 'Pedro', 40, 4000.0)\n",
      "Ejemplo 2\n",
      "(1, 'Juan')\n",
      "(2, 'María')\n",
      "(3, 'Pedro')\n",
      "Ejemplo 3\n",
      "(3, 'Pedro', 40, 4000.0)\n"
     ]
    }
   ],
   "source": [
    "# Crea una conexión al servidor MySQL\n",
    "cnx = mysql.connector.connect(user='freedb_sqlexampleuser', password='4NwkY%XmQz86ZZ#', host='sql.freedb.tech', database='freedb_sqlexampledb')\n",
    "\n",
    "# Crea un cursor para ejecutar consultas\n",
    "cursor = cnx.cursor()\n",
    "\n",
    "# Seleccionar todas las columnas y registros de la tabla empleados\n",
    "print(\"Ejemplo 1\")\n",
    "cursor.execute(\"SELECT * FROM empleados\")\n",
    "resultados = cursor.fetchall()\n",
    "for registro in resultados:\n",
    "  print(registro)\n",
    "\n",
    "# Seleccionar las columnas id y nombre de la tabla empleados\n",
    "print(\"Ejemplo 2\")\n",
    "cursor.execute(\"SELECT id, nombre FROM empleados\")\n",
    "resultados = cursor.fetchall()\n",
    "for registro in resultados:\n",
    "  print(registro)\n",
    "\n",
    "# Seleccionar los registros de la tabla empleados con un salario mayor a 3000\n",
    "print(\"Ejemplo 3\")\n",
    "cursor.execute(\"SELECT * FROM empleados WHERE salario > 3000\")\n",
    "resultados = cursor.fetchall()\n",
    "for registro in resultados:\n",
    "  print(registro)"
   ]
  },
  {
   "cell_type": "markdown",
   "metadata": {},
   "source": [
    "### UPDATE\n",
    "\n",
    "La clausula UPDATE en SQL se utiliza para modificar los datos existentes en una tabla. Es una clausula muy útil para actualizar los valores de una columna en una tabla, ya sea para corregir errores o para actualizar información. La sintaxis básica de la clausula UPDATE es la siguiente:\n",
    "\n",
    "```sql\n",
    "UPDATE nombre_de_la_tabla SET columna_1 = valor_1, columna_2 = valor_2, ... WHERE condicion;\n",
    "```\n",
    "\n",
    "Por ejemplo, supongamos que queremos actualizar el salario de un trabajador con id igual a 1 en la tabla empleados. Podemos utilizar la siguiente sentencia:\n",
    "\n",
    "```sql\n",
    "UPDATE empleados SET salario = 4000 WHERE id = 1;\n",
    "```\n",
    "\n",
    "Esta sentencia actualizará el valor de la columna salario en la tabla empleados a 4000 para el trabajador con id igual a 1.\n",
    "\n",
    "Es importante tener en cuenta que la clausula UPDATE puede afectar a muchos registros en una tabla si no se utiliza una condición adecuada. Por lo tanto, es importante asegurarse de que la condición utilizada en la clausula UPDATE sea lo suficientemente específica para actualizar solo los registros que deseamos modificar."
   ]
  },
  {
   "cell_type": "code",
   "execution_count": 8,
   "metadata": {},
   "outputs": [],
   "source": [
    "# Crea una conexión al servidor MySQL\n",
    "cnx = mysql.connector.connect(user='freedb_sqlexampleuser', password='4NwkY%XmQz86ZZ#', host='sql.freedb.tech', database='freedb_sqlexampledb')\n",
    "\n",
    "# Crea un cursor para ejecutar consultas\n",
    "cursor = cnx.cursor()\n",
    "\n",
    "cursor.execute(\"UPDATE empleados SET salario = 4000 WHERE id = 1\")\n",
    "cnx.commit()"
   ]
  },
  {
   "cell_type": "markdown",
   "metadata": {},
   "source": [
    "Podemos comprobar que el salario ha cambiado"
   ]
  },
  {
   "cell_type": "code",
   "execution_count": 9,
   "metadata": {},
   "outputs": [
    {
     "name": "stdout",
     "output_type": "stream",
     "text": [
      "(1, 'Juan', 25, 4000.0)\n"
     ]
    }
   ],
   "source": [
    "# Crea una conexión al servidor MySQL\n",
    "cnx = mysql.connector.connect(user='freedb_sqlexampleuser', password='4NwkY%XmQz86ZZ#', host='sql.freedb.tech', database='freedb_sqlexampledb')\n",
    "\n",
    "# Crea un cursor para ejecutar consultas\n",
    "cursor = cnx.cursor()\n",
    "\n",
    "# Seleccionar todas las columnas y registros de la tabla empleados\n",
    "cursor.execute(\"SELECT * FROM empleados WHERE id = 1\")\n",
    "resultados = cursor.fetchall()\n",
    "for registro in resultados:\n",
    "  print(registro)"
   ]
  },
  {
   "cell_type": "markdown",
   "metadata": {},
   "source": [
    "### DELETE\n",
    "La clausula DELETE en SQL se utiliza para eliminar uno o varios registros de una tabla. Es una clausula poderosa que debe usarse con precaución, ya que eliminar registros de una tabla puede tener consecuencias no deseadas. La sintaxis básica de la clausula DELETE es la siguiente:\n",
    "\n",
    "```sql\n",
    "DELETE FROM nombre_de_la_tabla WHERE condicion;\n",
    "```\n",
    "\n",
    "Por ejemplo, supongamos que queremos eliminar todos los registros de la tabla empleados donde el salario es menor que 2000. Podemos utilizar la siguiente sentencia:\n",
    "\n",
    "```sql\n",
    "DELETE FROM empleados WHERE salario < 2000;\n",
    "```\n",
    "\n",
    "Esta sentencia eliminará todos los registros de la tabla empleados donde el salario es menor que 2000.\n",
    "\n",
    "Es muy importante utilizar una condición en la clausula DELETE para asegurarse de que solo se eliminan los registros que deseamos. Si no se especifica una condición, se eliminarán todos los registros de la tabla, lo que puede tener consecuencias graves. Por lo tanto, es crucial utilizar una condición adecuada en la clausula DELETE.\n",
    "\n",
    "RECUERDA:\n",
    "\n",
    "[![Blinking LEDs](https://lookbillboards.com/wp-content/uploads/2017/01/Learn-Click-300x164.png)](https://youtu.be/i_cVJgIz_Cs?t=60 \"RECUERDA\")\n"
   ]
  },
  {
   "cell_type": "code",
   "execution_count": 12,
   "metadata": {},
   "outputs": [],
   "source": [
    "# Crea una conexión al servidor MySQL\n",
    "cnx = mysql.connector.connect(user='freedb_sqlexampleuser', password='4NwkY%XmQz86ZZ#', host='sql.freedb.tech', database='freedb_sqlexampledb')\n",
    "\n",
    "# Crea un cursor para ejecutar consultas\n",
    "cursor = cnx.cursor()\n",
    "\n",
    "cursor.execute(\"DELETE FROM empleados WHERE id = 1\")\n",
    "cnx.commit()"
   ]
  },
  {
   "cell_type": "markdown",
   "metadata": {},
   "source": [
    "Podemos comprobar los cambios"
   ]
  },
  {
   "cell_type": "code",
   "execution_count": 13,
   "metadata": {},
   "outputs": [
    {
     "name": "stdout",
     "output_type": "stream",
     "text": [
      "(2, 'María', 30, 3000.0)\n",
      "(3, 'Pedro', 40, 4000.0)\n"
     ]
    }
   ],
   "source": [
    "# Crea una conexión al servidor MySQL\n",
    "cnx = mysql.connector.connect(user='freedb_sqlexampleuser', password='4NwkY%XmQz86ZZ#', host='sql.freedb.tech', database='freedb_sqlexampledb')\n",
    "\n",
    "# Crea un cursor para ejecutar consultas\n",
    "cursor = cnx.cursor()\n",
    "\n",
    "# Seleccionar todas las columnas y registros de la tabla empleados\n",
    "cursor.execute(\"SELECT * FROM empleados\")\n",
    "resultados = cursor.fetchall()\n",
    "for registro in resultados:\n",
    "  print(registro)"
   ]
  },
  {
   "cell_type": "markdown",
   "metadata": {},
   "source": [
    "### DROP\n",
    "\n",
    "La clausula DROP en SQL se utiliza para eliminar una tabla o una base de datos completa. Es una clausula muy poderosa que debe usarse con precaución, ya que eliminar una tabla o una base de datos puede tener consecuencias graves e irreversibles. La sintaxis básica de la sentencia DROP es la siguiente:\n",
    "\n",
    "```sql\n",
    "DROP TABLE nombre_de_la_tabla;\n",
    "```\n",
    "\n",
    "Por ejemplo, supongamos que queremos eliminar la tabla empleados de nuestra base de datos. Podemos utilizar la siguiente sentencia:\n",
    "\n",
    "```sql\n",
    "DROP TABLE empleados;\n",
    "```\n",
    "\n",
    "Esta sentencia eliminará completamente la tabla empleados de nuestra base de datos.\n",
    "\n",
    "También es posible utilizar la sentencia DROP para eliminar una base de datos completa. La sintaxis de la sentencia DROP para eliminar una base de datos completa es la siguiente:\n",
    "\n",
    "```sql\n",
    "DROP DATABASE nombre_de_la_base_de_datos;\n",
    "```\n",
    "\n",
    "Es muy importante utilizar la sentencia DROP con precaución, ya que no hay forma de recuperar los datos que se eliminan. Antes de utilizar la sentencia DROP, asegúrate de haber hecho una copia de seguridad de tus datos y de estar completamente seguro de que deseas eliminar la tabla o la base de datos completa."
   ]
  },
  {
   "cell_type": "code",
   "execution_count": 16,
   "metadata": {},
   "outputs": [],
   "source": [
    "# Crea una conexión al servidor MySQL\n",
    "cnx = mysql.connector.connect(user='freedb_sqlexampleuser', password='4NwkY%XmQz86ZZ#', host='sql.freedb.tech', database='freedb_sqlexampledb')\n",
    "\n",
    "# Crea un cursor para ejecutar consultas\n",
    "cursor = cnx.cursor()\n",
    "\n",
    "cursor.execute(\"DROP TABLE empleados\")\n",
    "cursor.execute(\"DROP TABLE proyectos\")\n",
    "cnx.commit()"
   ]
  },
  {
   "cell_type": "markdown",
   "metadata": {},
   "source": [
    "### ORDER BY\n",
    "\n",
    "La cláusula ORDER BY en SQL se utiliza para ordenar los resultados de una consulta por uno o más campos. Es una cláusula muy útil que puede utilizarse para presentar los datos en un orden lógico. La sintaxis básica de la cláusula ORDER BY es la siguiente:\n",
    "\n",
    "```sql\n",
    "SELECT columna_1, columna_2, ... FROM nombre_de_la_tabla WHERE condicion ORDER BY columna_ordenamiento [ASC|DESC];\n",
    "```\n",
    "\n",
    "Por ejemplo, supongamos que queremos obtener una lista de todos los empleados en la tabla empleados, ordenados por salario de forma ascendente. Podemos utilizar la siguiente consulta:\n",
    "\n",
    "```sql\n",
    "SELECT nombre, salario FROM empleados ORDER BY salario ASC;\n",
    "```\n",
    "\n",
    "Esta consulta devolverá una lista de todos los empleados en la tabla empleados, ordenados por salario de forma ascendente.\n",
    "\n",
    "Es importante tener en cuenta que la cláusula ORDER BY debe ir al final de la consulta, después de la cláusula WHERE (si está presente). También es posible especificar múltiples columnas de ordenamiento en la cláusula ORDER BY.\n"
   ]
  },
  {
   "cell_type": "markdown",
   "metadata": {},
   "source": [
    "\n",
    "### AVG\n",
    "\n",
    "La función AVG en SQL se utiliza para calcular el promedio de los valores de una columna en una tabla. Es una función muy útil para obtener una idea de la distribución de los datos en una tabla. La sintaxis básica de la función AVG es la siguiente:\n",
    "\n",
    "```sql\n",
    "SELECT AVG(columna) FROM nombre_de_la_tabla WHERE condicion;\n",
    "```\n",
    "\n",
    "Por ejemplo, supongamos que queremos calcular el promedio del salario de los empleados en la tabla empleados que trabajan en el departamento de ventas. Podemos utilizar la siguiente consulta:\n",
    "\n",
    "```sql\n",
    "SELECT AVG(salario) FROM empleados WHERE departamento = 'ventas';\n",
    "```\n",
    "\n",
    "Esta consulta devolverá el promedio del salario de los empleados en el departamento de ventas.\n",
    "\n",
    "Es importante tener en cuenta que la función AVG solo puede utilizarse en columnas numéricas.\n"
   ]
  },
  {
   "cell_type": "markdown",
   "metadata": {},
   "source": [
    "\n",
    "### MIN\n",
    "\n",
    "La función MIN en SQL se utiliza para encontrar el valor mínimo de una columna en una tabla. Es una función muy útil para obtener información sobre el valor mínimo en una tabla. La sintaxis básica de la función MIN es la siguiente:\n",
    "\n",
    "```sql\n",
    "SELECT MIN(columna) FROM nombre_de_la_tabla WHERE condicion;\n",
    "```\n",
    "\n",
    "Por ejemplo, supongamos que queremos encontrar el salario mínimo de los empleados en la tabla empleados que trabajan en el departamento de ventas. Podemos utilizar la siguiente consulta:\n",
    "\n",
    "```sql\n",
    "SELECT MIN(salario) FROM empleados WHERE departamento = 'ventas';\n",
    "```\n",
    "\n",
    "Esta consulta devolverá el salario mínimo de los empleados en el departamento de ventas.\n",
    "\n",
    "Es importante tener en cuenta que la función MIN solo puede utilizarse en columnas numéricas.\n"
   ]
  },
  {
   "cell_type": "markdown",
   "metadata": {},
   "source": [
    "\n",
    "### MAX\n",
    "\n",
    "La función MAX en SQL se utiliza para encontrar el valor máximo de una columna en una tabla. Es una función muy útil para obtener información sobre el valor máximo en una tabla. La sintaxis básica de la función MAX es la siguiente:\n",
    "\n",
    "```sql\n",
    "SELECT MAX(columna) FROM nombre_de_la_tabla WHERE condicion;\n",
    "```\n",
    "\n",
    "Por ejemplo, supongamos que queremos encontrar el salario máximo de los empleados en la tabla empleados que trabajan en el departamento de ventas. Podemos utilizar la siguiente consulta:\n",
    "\n",
    "```sql\n",
    "SELECT MAX(salario) FROM empleados WHERE departamento = 'ventas';\n",
    "```\n",
    "\n",
    "Esta consulta devolverá el salario máximo de los empleados en el departamento de ventas.\n",
    "\n",
    "Es importante tener en cuenta que la función MAX solo puede utilizarse en columnas numéricas.\n",
    "\n",
    "Es posible utilizar las funciones AVG, MIN y MAX en combinación con la cláusula WHERE para obtener resultados específicos. Por ejemplo, podemos encontrar el salario promedio de los empleados que trabajan en el departamento de ventas y que tienen más de 5 años de experiencia utilizando la siguiente consulta:\n",
    "\n",
    "```sql\n",
    "SELECT AVG(salario) FROM empleados WHERE departamento = 'ventas' AND experiencia > 5;\n",
    "```\n",
    "\n",
    "Esta consulta devolverá el salario promedio de los empleados que trabajan en el departamento de ventas y que tienen más de 5 años de experiencia."
   ]
  },
  {
   "cell_type": "markdown",
   "metadata": {},
   "source": [
    "### COUNT\n",
    "\n",
    "La cláusula COUNT en SQL se utiliza para contar el número de filas que cumplen con una determinada condición en una tabla. Es una cláusula muy útil para obtener información sobre la cantidad de registros que cumplen con ciertas características en una tabla. La sintaxis básica de la cláusula COUNT es la siguiente:\n",
    "\n",
    "```sql\n",
    "SELECT COUNT(*) FROM nombre_de_la_tabla WHERE condicion;\n",
    "```\n",
    "\n",
    "Por ejemplo, supongamos que queremos contar el número de empleados que trabajan en el departamento de ventas. Podemos utilizar la siguiente consulta:\n",
    "\n",
    "```sql\n",
    "SELECT COUNT(*) FROM empleados WHERE departamento = 'ventas';\n",
    "```\n",
    "\n",
    "Esta consulta devolverá la cantidad de empleados que trabajan en el departamento de ventas.\n",
    "\n",
    "Es importante tener en cuenta que la cláusula COUNT puede utilizarse con cualquier columna de una tabla, pero si se desea contar solo las filas que contienen valores no nulos en una columna en particular, se debe especificar el nombre de la columna en lugar del asterisco (*). Por ejemplo, para contar el número de empleados que tienen un salario diferente de nulo, se puede utilizar la siguiente consulta:\n",
    "\n",
    "```sql\n",
    "SELECT COUNT(salario) FROM empleados;\n",
    "```\n",
    "\n",
    "Esta consulta devolverá la cantidad de empleados que tienen un valor no nulo en la columna salario.\n",
    "\n",
    "La cláusula COUNT es muy útil para obtener información estadística sobre una tabla y para realizar análisis de datos."
   ]
  },
  {
   "cell_type": "markdown",
   "metadata": {},
   "source": [
    "### JOIN\n",
    "La clausula JOIN en SQL se utiliza para combinar datos de dos o más tablas en una sola tabla. La combinación se realiza en función de una o más columnas que están relacionadas entre las tablas. La sintaxis básica de la clausula JOIN es la siguiente:\n",
    "\n",
    "```sql\n",
    "SELECT columna_1, columna_2, ... FROM nombre_tabla_1 JOIN nombre_tabla_2 ON nombre_tabla_1.columna_relacionada = nombre_tabla_2.columna_relacionada;\n",
    "```\n",
    "\n",
    "Por ejemplo, supongamos que tenemos dos tablas: \"clientes\" y \"pedidos\", y queremos combinar los datos de ambas tablas en una sola tabla para mostrar el nombre del cliente y la fecha del pedido. Podemos utilizar la siguiente sentencia JOIN:\n",
    "\n",
    "```sql\n",
    "SELECT clientes.nombre, pedidos.fecha \n",
    "FROM clientes \n",
    "JOIN pedidos \n",
    "ON clientes.id_cliente = pedidos.id_cliente;\n",
    "```\n",
    "\n",
    "Esta sentencia combina los datos de la tabla clientes y pedidos en una sola tabla basándose en la columna \"id_cliente\", que es común a ambas tablas. Luego selecciona las columnas \"nombre\" de la tabla clientes y \"fecha\" de la tabla pedidos para mostrar en la tabla resultante."
   ]
  },
  {
   "cell_type": "markdown",
   "metadata": {},
   "source": [
    "### GROUP BY\n",
    "La cláusula GROUP BY se utiliza para agrupar los resultados de una consulta SQL por una o más columnas. Es muy útil para hacer cálculos agregados, como sumas, promedios, etc. La sintaxis básica de la cláusula GROUP BY es la siguiente:\n",
    "\n",
    "```sql\n",
    "SELECT columna_1, columna_2, ..., SUM(columna_suma), AVG(columna_promedio), ... FROM nombre_de_la_tabla WHERE condicion GROUP BY columna_agrupamiento;\n",
    "```\n",
    "\n",
    "Por ejemplo, supongamos que queremos obtener la cantidad de empleados en cada departamento de la tabla empleados. Podemos utilizar la siguiente consulta:\n",
    "\n",
    "```sql\n",
    "SELECT departamento, COUNT(*) FROM empleados GROUP BY departamento;\n",
    "```\n",
    "\n",
    "Esta consulta devolverá la cantidad de empleados en cada departamento de la tabla empleados."
   ]
  },
  {
   "cell_type": "markdown",
   "metadata": {},
   "source": [
    "### Ejemplos:\n",
    "\n",
    "Vamos a realizar un ejemplo con estas cláusulas que hemos visto, vamos a generar dos tablas con datos aleatorios relacionados"
   ]
  },
  {
   "cell_type": "code",
   "execution_count": 17,
   "metadata": {},
   "outputs": [
    {
     "name": "stdout",
     "output_type": "stream",
     "text": [
      "Datos insertados correctamente en las tablas\n"
     ]
    }
   ],
   "source": [
    "import random\n",
    "\n",
    "# Crea una conexión al servidor MySQL\n",
    "cnx = mysql.connector.connect(user='freedb_sqlexampleuser', password='4NwkY%XmQz86ZZ#', host='sql.freedb.tech', database='freedb_sqlexampledb')\n",
    "\n",
    "# Crea un cursor para ejecutar consultas\n",
    "cursor = cnx.cursor()\n",
    "\n",
    "# Crear tabla de empleados\n",
    "cursor.execute(\"CREATE TABLE empleados (id INT AUTO_INCREMENT PRIMARY KEY, nombre VARCHAR(255),apellido VARCHAR(255), proyecto_id INT)\")\n",
    "\n",
    "# Crear tabla de proyectos\n",
    "cursor.execute(\"CREATE TABLE proyectos (id INT AUTO_INCREMENT PRIMARY KEY, nombre VARCHAR(255), cliente VARCHAR(255))\")\n",
    "\n",
    "# Insertar datos aleatorios en la tabla de empleados\n",
    "# Insertar datos aleatorios en la tabla de empleados\n",
    "nombres = [\"Juan\", \"Pedro\", \"Maria\", \"Ana\", \"Luis\", \"Carlos\", \"Laura\", \"Pablo\", \"Sofia\", \"Diego\", \"Marta\", \"Lucia\", \"Jose\", \"Alejandro\", \"Emma\"]\n",
    "apellidos = [\"Garcia\", \"Rodriguez\", \"Lopez\", \"Fernandez\", \"Perez\", \"Gonzalez\", \"Sanchez\", \"Martinez\", \"Alvarez\", \"Romero\", \"Saez\", \"Vazquez\", \"Castro\", \"Jimenez\", \"Ruiz\"]\n",
    "proyectos = [1, 2, 3]\n",
    "for i in range(15):\n",
    "    nombre = random.choice(nombres)\n",
    "    apellido = random.choice(apellidos)\n",
    "    proyecto_id = random.choice(proyectos)\n",
    "    sql = \"INSERT INTO empleados (nombre, apellido, proyecto_id) VALUES (%s, %s, %s)\"\n",
    "    val = (nombre, apellido, proyecto_id)\n",
    "    cursor.execute(sql, val)\n",
    "\n",
    "cnx.commit()\n",
    "\n",
    "# Insertar datos en la tabla de proyectos\n",
    "proyectos = [(\"1\", \"Proyecto A\", \"Cliente A\"), (\"2\", \"Proyecto B\", \"Cliente B\"), (\"3\", \"Proyecto C\", \"Cliente C\")]\n",
    "for proyecto in proyectos:\n",
    "    sql = \"INSERT INTO proyectos (id, nombre, cliente) VALUES (%s, %s, %s)\"\n",
    "    val = proyecto\n",
    "    cursor.execute(sql, val)\n",
    "\n",
    "cnx.commit()\n",
    "\n",
    "print(\"Datos insertados correctamente en las tablas\")"
   ]
  },
  {
   "cell_type": "code",
   "execution_count": 18,
   "metadata": {},
   "outputs": [
    {
     "name": "stdout",
     "output_type": "stream",
     "text": [
      "(1, 'Jose', 'Alvarez', 3)\n",
      "(2, 'Pedro', 'Perez', 3)\n",
      "(3, 'Maria', 'Saez', 2)\n",
      "(4, 'Sofia', 'Gonzalez', 2)\n",
      "(5, 'Lucia', 'Garcia', 1)\n",
      "(6, 'Carlos', 'Saez', 3)\n",
      "(7, 'Lucia', 'Romero', 3)\n",
      "(8, 'Luis', 'Fernandez', 1)\n",
      "(9, 'Maria', 'Jimenez', 1)\n",
      "(10, 'Alejandro', 'Vazquez', 3)\n",
      "(11, 'Alejandro', 'Jimenez', 3)\n",
      "(12, 'Laura', 'Castro', 2)\n",
      "(13, 'Emma', 'Fernandez', 1)\n",
      "(14, 'Alejandro', 'Sanchez', 3)\n",
      "(15, 'Maria', 'Martinez', 1)\n",
      "(1, 'Proyecto A', 'Cliente A')\n",
      "(2, 'Proyecto B', 'Cliente B')\n",
      "(3, 'Proyecto C', 'Cliente C')\n"
     ]
    }
   ],
   "source": [
    "# Crea una conexión al servidor MySQL\n",
    "cnx = mysql.connector.connect(user='freedb_sqlexampleuser', password='4NwkY%XmQz86ZZ#', host='sql.freedb.tech', database='freedb_sqlexampledb')\n",
    "\n",
    "# Crea un cursor para ejecutar consultas\n",
    "cursor = cnx.cursor()\n",
    "\n",
    "# Seleccionar todas las columnas y registros de la tabla empleados\n",
    "cursor.execute(\"SELECT * FROM empleados\")\n",
    "resultados = cursor.fetchall()\n",
    "for registro in resultados:\n",
    "  print(registro)\n",
    "\n",
    "\n",
    "# Seleccionar todas las columnas y registros de la tabla empleados\n",
    "cursor.execute(\"SELECT * FROM proyectos\")\n",
    "resultados = cursor.fetchall()\n",
    "for registro in resultados:\n",
    "  print(registro)"
   ]
  },
  {
   "cell_type": "markdown",
   "metadata": {},
   "source": [
    "Vamos a ver la lista de empleados, junto a el proyecto al que pertenecen"
   ]
  },
  {
   "cell_type": "code",
   "execution_count": 19,
   "metadata": {},
   "outputs": [
    {
     "name": "stdout",
     "output_type": "stream",
     "text": [
      "('Lucia', 'Garcia', 'Proyecto A')\n",
      "('Luis', 'Fernandez', 'Proyecto A')\n",
      "('Maria', 'Jimenez', 'Proyecto A')\n",
      "('Emma', 'Fernandez', 'Proyecto A')\n",
      "('Maria', 'Martinez', 'Proyecto A')\n",
      "('Maria', 'Saez', 'Proyecto B')\n",
      "('Sofia', 'Gonzalez', 'Proyecto B')\n",
      "('Laura', 'Castro', 'Proyecto B')\n",
      "('Jose', 'Alvarez', 'Proyecto C')\n",
      "('Pedro', 'Perez', 'Proyecto C')\n",
      "('Carlos', 'Saez', 'Proyecto C')\n",
      "('Lucia', 'Romero', 'Proyecto C')\n",
      "('Alejandro', 'Vazquez', 'Proyecto C')\n",
      "('Alejandro', 'Jimenez', 'Proyecto C')\n",
      "('Alejandro', 'Sanchez', 'Proyecto C')\n"
     ]
    }
   ],
   "source": [
    "# Crea una conexión al servidor MySQL\n",
    "cnx = mysql.connector.connect(user='freedb_sqlexampleuser', password='4NwkY%XmQz86ZZ#', host='sql.freedb.tech', database='freedb_sqlexampledb')\n",
    "\n",
    "# Crea un cursor para ejecutar consultas\n",
    "cursor = cnx.cursor()\n",
    "\n",
    "# Ejecutar consulta\n",
    "cursor.execute(\"SELECT e.nombre, e.apellido, p.nombre AS nombre_proyecto FROM empleados AS e JOIN proyectos AS p ON e.proyecto_id=p.id ORDER BY e.proyecto_id\")\n",
    "\n",
    "# Obtener resultados\n",
    "results = cursor.fetchall()\n",
    "\n",
    "# Imprimir resultados\n",
    "for result in results:\n",
    "    print(result)\n"
   ]
  },
  {
   "cell_type": "markdown",
   "metadata": {},
   "source": [
    "Vamos a ver la lista de proyectos, junto con el numero de empleados involucrado en cada proyecto:"
   ]
  },
  {
   "cell_type": "code",
   "execution_count": 20,
   "metadata": {},
   "outputs": [
    {
     "name": "stdout",
     "output_type": "stream",
     "text": [
      "('Proyecto A', 5)\n",
      "('Proyecto B', 3)\n",
      "('Proyecto C', 7)\n"
     ]
    }
   ],
   "source": [
    "# Crea una conexión al servidor MySQL\n",
    "cnx = mysql.connector.connect(user='freedb_sqlexampleuser', password='4NwkY%XmQz86ZZ#', host='sql.freedb.tech', database='freedb_sqlexampledb')\n",
    "\n",
    "# Crea un cursor para ejecutar consultas\n",
    "cursor = cnx.cursor()\n",
    "\n",
    "# Ejecutar consulta\n",
    "cursor.execute(\"SELECT proyectos.nombre, COUNT(*) AS cantidad_empleados FROM proyectos JOIN empleados ON proyectos.id = empleados.proyecto_id GROUP BY proyectos.nombre ORDER BY proyectos.nombre ASC;\")\n",
    "\n",
    "# Obtener resultados\n",
    "results = cursor.fetchall()\n",
    "\n",
    "# Imprimir resultados\n",
    "for result in results:\n",
    "    print(result)"
   ]
  },
  {
   "cell_type": "markdown",
   "metadata": {},
   "source": [
    "## No solo existe SQL\n",
    "\n",
    "Hay muchas bases de datos que se pueden usar en Python, aparte de las bases de datos SQL. Aquí hay algunas opciones populares:\n",
    "\n",
    "- MongoDB: es una base de datos NoSQL de documentos que se utiliza para almacenar datos no estructurados. Es muy escalable y permite crear réplicas muy rápidamente.\n",
    "\n",
    "- Redis: es una base de datos en memoria que se utiliza para almacenar datos en forma de clave-valor. Es útil para almacenar datos en caché y para la gestión de sesiones.\n",
    "\n",
    "- Cassandra: es una base de datos distribuida NoSQL que se utiliza para el almacenamiento de grandes cantidades de datos en múltiples servidores.\n",
    "\n",
    "- Firebase: es una base de datos en tiempo real de Google que se utiliza para la gestión de datos de aplicaciones móviles y web.\n",
    "\n",
    "- HBase: es una base de datos NoSQL de código abierto que se utiliza para el almacenamiento de grandes cantidades de datos en clústeres de servidores.\n",
    "\n",
    "- Elasticsearch: es una base de datos de búsqueda distribuida que se utiliza para la búsqueda de texto completo y la análisis de datos.\n",
    "\n",
    "- Neo4j: es una base de datos de grafos que se utiliza para el almacenamiento de datos en forma de nodos y relaciones.\n",
    "\n",
    "Estas son solo algunas de las opciones disponibles. Cada una tiene sus propias características y casos de uso, por lo que es importante evaluar cuál se adapta mejor a sus necesidades específicas."
   ]
  }
 ],
 "metadata": {
  "kernelspec": {
   "display_name": "Python 3.10.9 64-bit (microsoft store)",
   "language": "python",
   "name": "python3"
  },
  "language_info": {
   "codemirror_mode": {
    "name": "ipython",
    "version": 3
   },
   "file_extension": ".py",
   "mimetype": "text/x-python",
   "name": "python",
   "nbconvert_exporter": "python",
   "pygments_lexer": "ipython3",
   "version": "3.10.10"
  },
  "orig_nbformat": 4,
  "vscode": {
   "interpreter": {
    "hash": "85aece5883f23cf93a903b25fd3f6a5833dab6da9d10cf403dbbc785be5e4181"
   }
  }
 },
 "nbformat": 4,
 "nbformat_minor": 2
}
